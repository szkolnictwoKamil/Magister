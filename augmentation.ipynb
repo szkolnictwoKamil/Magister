{
  "nbformat": 4,
  "nbformat_minor": 0,
  "metadata": {
    "colab": {
      "provenance": []
    },
    "kernelspec": {
      "name": "python3",
      "display_name": "Python 3"
    },
    "language_info": {
      "name": "python"
    }
  },
  "cells": [
    {
      "cell_type": "code",
      "source": [
        "import os\n",
        "import numpy as np\n",
        "from PIL import Image\n",
        "from tensorflow.keras.preprocessing.image import random_rotation\n",
        "from tensorflow.image import random_crop\n",
        "from tensorflow.image import random_contrast\n",
        "from tensorflow.image import random_brightness\n",
        "from tensorflow.image import random_flip_left_right\n",
        "from tensorflow.image import random_hue\n",
        "from tensorflow.image import random_jpeg_quality\n",
        "from tensorflow.image import random_saturation\n",
        "from tensorflow.image import central_crop\n",
        "from tensorflow.errors import InvalidArgumentError\n",
        "import matplotlib.pyplot as plt\n",
        "import random\n",
        "import tensorflow as tf"
      ],
      "metadata": {
        "id": "bf1HLSEJ4gzh"
      },
      "execution_count": null,
      "outputs": []
    },
    {
      "cell_type": "code",
      "source": [
        "def set_all_seeds(seed):\n",
        "    os.environ[\"PL_GLOBAL_SEED\"] = str(seed)\n",
        "    random.seed(seed)\n",
        "    np.random.seed(seed)\n",
        "    tf.random.set_seed(seed)\n",
        "    tf.experimental.numpy.random.seed(seed)\n",
        "    os.environ['TF_CUDNN_DETERMINISTIC'] = '1'\n",
        "    os.environ['TF_DETERMINISTIC_OPS'] = '1'\n",
        "    os.environ[\"PYTHONHASHSEED\"] = str(seed)\n",
        "\n",
        "set_all_seeds(420)"
      ],
      "metadata": {
        "id": "hEQ07akGhDvG"
      },
      "execution_count": null,
      "outputs": []
    },
    {
      "cell_type": "code",
      "execution_count": null,
      "metadata": {
        "id": "glHp4BKOx8dP",
        "colab": {
          "base_uri": "https://localhost:8080/"
        },
        "outputId": "d5bbe9ee-d2c9-400b-fa09-e526997a0612"
      },
      "outputs": [
        {
          "output_type": "stream",
          "name": "stdout",
          "text": [
            "Mounted at /content/gdrive\n"
          ]
        }
      ],
      "source": [
        "from google.colab import drive\n",
        "drive.mount(\"/content/gdrive\")"
      ]
    },
    {
      "cell_type": "code",
      "source": [
        "import pandas as pd\n",
        "\n",
        "classes = pd.read_csv('gdrive/MyDrive/flower_data/cat_to_name.json', header=None)"
      ],
      "metadata": {
        "id": "ffNHFk-c0Mlu"
      },
      "execution_count": null,
      "outputs": []
    },
    {
      "cell_type": "code",
      "source": [
        "classes"
      ],
      "metadata": {
        "id": "FuseqO1m2wZx",
        "colab": {
          "base_uri": "https://localhost:8080/",
          "height": 206
        },
        "outputId": "41630e83-6915-4471-cc6f-135144ae180b"
      },
      "execution_count": null,
      "outputs": [
        {
          "output_type": "execute_result",
          "data": {
            "text/plain": [
              "                  0                         1                          2    \\\n",
              "0  {\"21\": \"fire lily\"   \"3\": \"canterbury bells\"   \"45\": \"bolero deep blue\"   \n",
              "\n",
              "                     3                       4    \\\n",
              "0   \"1\": \"pink primrose\"   \"34\": \"mexican aster\"   \n",
              "\n",
              "                                 5                    6    \\\n",
              "0   \"27\": \"prince of wales feathers\"   \"7\": \"moon orchid\"   \n",
              "\n",
              "                     7                        8                    9    ...  \\\n",
              "0   \"16\": \"globe-flower\"   \"25\": \"grape hyacinth\"   \"26\": \"corn poppy\"  ...   \n",
              "\n",
              "              92                 93                 94                   95   \\\n",
              "0   \"78\": \"lotus\"   \"88\": \"cyclamen\"   \"94\": \"foxglove\"   \"81\": \"frangipani\"   \n",
              "\n",
              "             96                   97                   98   \\\n",
              "0   \"74\": \"rose\"   \"89\": \"watercress\"   \"73\": \"water lily\"   \n",
              "\n",
              "                   99                       100                101  \n",
              "0   \"46\": \"wallflower\"   \"77\": \"passion flower\"   \"51\": \"petunia\"}  \n",
              "\n",
              "[1 rows x 102 columns]"
            ],
            "text/html": [
              "\n",
              "\n",
              "  <div id=\"df-5b5bd682-c45b-456a-9aef-0528e137f2b0\">\n",
              "    <div class=\"colab-df-container\">\n",
              "      <div>\n",
              "<style scoped>\n",
              "    .dataframe tbody tr th:only-of-type {\n",
              "        vertical-align: middle;\n",
              "    }\n",
              "\n",
              "    .dataframe tbody tr th {\n",
              "        vertical-align: top;\n",
              "    }\n",
              "\n",
              "    .dataframe thead th {\n",
              "        text-align: right;\n",
              "    }\n",
              "</style>\n",
              "<table border=\"1\" class=\"dataframe\">\n",
              "  <thead>\n",
              "    <tr style=\"text-align: right;\">\n",
              "      <th></th>\n",
              "      <th>0</th>\n",
              "      <th>1</th>\n",
              "      <th>2</th>\n",
              "      <th>3</th>\n",
              "      <th>4</th>\n",
              "      <th>5</th>\n",
              "      <th>6</th>\n",
              "      <th>7</th>\n",
              "      <th>8</th>\n",
              "      <th>9</th>\n",
              "      <th>...</th>\n",
              "      <th>92</th>\n",
              "      <th>93</th>\n",
              "      <th>94</th>\n",
              "      <th>95</th>\n",
              "      <th>96</th>\n",
              "      <th>97</th>\n",
              "      <th>98</th>\n",
              "      <th>99</th>\n",
              "      <th>100</th>\n",
              "      <th>101</th>\n",
              "    </tr>\n",
              "  </thead>\n",
              "  <tbody>\n",
              "    <tr>\n",
              "      <th>0</th>\n",
              "      <td>{\"21\": \"fire lily\"</td>\n",
              "      <td>\"3\": \"canterbury bells\"</td>\n",
              "      <td>\"45\": \"bolero deep blue\"</td>\n",
              "      <td>\"1\": \"pink primrose\"</td>\n",
              "      <td>\"34\": \"mexican aster\"</td>\n",
              "      <td>\"27\": \"prince of wales feathers\"</td>\n",
              "      <td>\"7\": \"moon orchid\"</td>\n",
              "      <td>\"16\": \"globe-flower\"</td>\n",
              "      <td>\"25\": \"grape hyacinth\"</td>\n",
              "      <td>\"26\": \"corn poppy\"</td>\n",
              "      <td>...</td>\n",
              "      <td>\"78\": \"lotus\"</td>\n",
              "      <td>\"88\": \"cyclamen\"</td>\n",
              "      <td>\"94\": \"foxglove\"</td>\n",
              "      <td>\"81\": \"frangipani\"</td>\n",
              "      <td>\"74\": \"rose\"</td>\n",
              "      <td>\"89\": \"watercress\"</td>\n",
              "      <td>\"73\": \"water lily\"</td>\n",
              "      <td>\"46\": \"wallflower\"</td>\n",
              "      <td>\"77\": \"passion flower\"</td>\n",
              "      <td>\"51\": \"petunia\"}</td>\n",
              "    </tr>\n",
              "  </tbody>\n",
              "</table>\n",
              "<p>1 rows × 102 columns</p>\n",
              "</div>\n",
              "      <button class=\"colab-df-convert\" onclick=\"convertToInteractive('df-5b5bd682-c45b-456a-9aef-0528e137f2b0')\"\n",
              "              title=\"Convert this dataframe to an interactive table.\"\n",
              "              style=\"display:none;\">\n",
              "\n",
              "  <svg xmlns=\"http://www.w3.org/2000/svg\" height=\"24px\"viewBox=\"0 0 24 24\"\n",
              "       width=\"24px\">\n",
              "    <path d=\"M0 0h24v24H0V0z\" fill=\"none\"/>\n",
              "    <path d=\"M18.56 5.44l.94 2.06.94-2.06 2.06-.94-2.06-.94-.94-2.06-.94 2.06-2.06.94zm-11 1L8.5 8.5l.94-2.06 2.06-.94-2.06-.94L8.5 2.5l-.94 2.06-2.06.94zm10 10l.94 2.06.94-2.06 2.06-.94-2.06-.94-.94-2.06-.94 2.06-2.06.94z\"/><path d=\"M17.41 7.96l-1.37-1.37c-.4-.4-.92-.59-1.43-.59-.52 0-1.04.2-1.43.59L10.3 9.45l-7.72 7.72c-.78.78-.78 2.05 0 2.83L4 21.41c.39.39.9.59 1.41.59.51 0 1.02-.2 1.41-.59l7.78-7.78 2.81-2.81c.8-.78.8-2.07 0-2.86zM5.41 20L4 18.59l7.72-7.72 1.47 1.35L5.41 20z\"/>\n",
              "  </svg>\n",
              "      </button>\n",
              "\n",
              "\n",
              "\n",
              "    <div id=\"df-03ca9c71-3749-4518-8a26-20e81cd4aea2\">\n",
              "      <button class=\"colab-df-quickchart\" onclick=\"quickchart('df-03ca9c71-3749-4518-8a26-20e81cd4aea2')\"\n",
              "              title=\"Suggest charts.\"\n",
              "              style=\"display:none;\">\n",
              "\n",
              "<svg xmlns=\"http://www.w3.org/2000/svg\" height=\"24px\"viewBox=\"0 0 24 24\"\n",
              "     width=\"24px\">\n",
              "    <g>\n",
              "        <path d=\"M19 3H5c-1.1 0-2 .9-2 2v14c0 1.1.9 2 2 2h14c1.1 0 2-.9 2-2V5c0-1.1-.9-2-2-2zM9 17H7v-7h2v7zm4 0h-2V7h2v10zm4 0h-2v-4h2v4z\"/>\n",
              "    </g>\n",
              "</svg>\n",
              "      </button>\n",
              "    </div>\n",
              "\n",
              "<style>\n",
              "  .colab-df-quickchart {\n",
              "    background-color: #E8F0FE;\n",
              "    border: none;\n",
              "    border-radius: 50%;\n",
              "    cursor: pointer;\n",
              "    display: none;\n",
              "    fill: #1967D2;\n",
              "    height: 32px;\n",
              "    padding: 0 0 0 0;\n",
              "    width: 32px;\n",
              "  }\n",
              "\n",
              "  .colab-df-quickchart:hover {\n",
              "    background-color: #E2EBFA;\n",
              "    box-shadow: 0px 1px 2px rgba(60, 64, 67, 0.3), 0px 1px 3px 1px rgba(60, 64, 67, 0.15);\n",
              "    fill: #174EA6;\n",
              "  }\n",
              "\n",
              "  [theme=dark] .colab-df-quickchart {\n",
              "    background-color: #3B4455;\n",
              "    fill: #D2E3FC;\n",
              "  }\n",
              "\n",
              "  [theme=dark] .colab-df-quickchart:hover {\n",
              "    background-color: #434B5C;\n",
              "    box-shadow: 0px 1px 3px 1px rgba(0, 0, 0, 0.15);\n",
              "    filter: drop-shadow(0px 1px 2px rgba(0, 0, 0, 0.3));\n",
              "    fill: #FFFFFF;\n",
              "  }\n",
              "</style>\n",
              "\n",
              "    <script>\n",
              "      async function quickchart(key) {\n",
              "        const containerElement = document.querySelector('#' + key);\n",
              "        const charts = await google.colab.kernel.invokeFunction(\n",
              "            'suggestCharts', [key], {});\n",
              "      }\n",
              "    </script>\n",
              "\n",
              "      <script>\n",
              "\n",
              "function displayQuickchartButton(domScope) {\n",
              "  let quickchartButtonEl =\n",
              "    domScope.querySelector('#df-03ca9c71-3749-4518-8a26-20e81cd4aea2 button.colab-df-quickchart');\n",
              "  quickchartButtonEl.style.display =\n",
              "    google.colab.kernel.accessAllowed ? 'block' : 'none';\n",
              "}\n",
              "\n",
              "        displayQuickchartButton(document);\n",
              "      </script>\n",
              "      <style>\n",
              "    .colab-df-container {\n",
              "      display:flex;\n",
              "      flex-wrap:wrap;\n",
              "      gap: 12px;\n",
              "    }\n",
              "\n",
              "    .colab-df-convert {\n",
              "      background-color: #E8F0FE;\n",
              "      border: none;\n",
              "      border-radius: 50%;\n",
              "      cursor: pointer;\n",
              "      display: none;\n",
              "      fill: #1967D2;\n",
              "      height: 32px;\n",
              "      padding: 0 0 0 0;\n",
              "      width: 32px;\n",
              "    }\n",
              "\n",
              "    .colab-df-convert:hover {\n",
              "      background-color: #E2EBFA;\n",
              "      box-shadow: 0px 1px 2px rgba(60, 64, 67, 0.3), 0px 1px 3px 1px rgba(60, 64, 67, 0.15);\n",
              "      fill: #174EA6;\n",
              "    }\n",
              "\n",
              "    [theme=dark] .colab-df-convert {\n",
              "      background-color: #3B4455;\n",
              "      fill: #D2E3FC;\n",
              "    }\n",
              "\n",
              "    [theme=dark] .colab-df-convert:hover {\n",
              "      background-color: #434B5C;\n",
              "      box-shadow: 0px 1px 3px 1px rgba(0, 0, 0, 0.15);\n",
              "      filter: drop-shadow(0px 1px 2px rgba(0, 0, 0, 0.3));\n",
              "      fill: #FFFFFF;\n",
              "    }\n",
              "  </style>\n",
              "\n",
              "      <script>\n",
              "        const buttonEl =\n",
              "          document.querySelector('#df-5b5bd682-c45b-456a-9aef-0528e137f2b0 button.colab-df-convert');\n",
              "        buttonEl.style.display =\n",
              "          google.colab.kernel.accessAllowed ? 'block' : 'none';\n",
              "\n",
              "        async function convertToInteractive(key) {\n",
              "          const element = document.querySelector('#df-5b5bd682-c45b-456a-9aef-0528e137f2b0');\n",
              "          const dataTable =\n",
              "            await google.colab.kernel.invokeFunction('convertToInteractive',\n",
              "                                                     [key], {});\n",
              "          if (!dataTable) return;\n",
              "\n",
              "          const docLinkHtml = 'Like what you see? Visit the ' +\n",
              "            '<a target=\"_blank\" href=https://colab.research.google.com/notebooks/data_table.ipynb>data table notebook</a>'\n",
              "            + ' to learn more about interactive tables.';\n",
              "          element.innerHTML = '';\n",
              "          dataTable['output_type'] = 'display_data';\n",
              "          await google.colab.output.renderOutput(dataTable, element);\n",
              "          const docLink = document.createElement('div');\n",
              "          docLink.innerHTML = docLinkHtml;\n",
              "          element.appendChild(docLink);\n",
              "        }\n",
              "      </script>\n",
              "    </div>\n",
              "  </div>\n"
            ]
          },
          "metadata": {},
          "execution_count": 5
        }
      ]
    },
    {
      "cell_type": "code",
      "source": [
        "X = {}\n",
        "\n",
        "for directory in os.listdir('gdrive/MyDrive/flower_data/train'):\n",
        "    print(directory)\n",
        "    X[directory] = []\n",
        "    for i, file in enumerate(os.listdir('gdrive/MyDrive/flower_data/train/' + directory)):\n",
        "        with Image.open('gdrive/MyDrive/flower_data/train/' + directory + '/' + file) as img:\n",
        "            X[directory] += [img.copy()]"
      ],
      "metadata": {
        "id": "in8_WGg23_t_"
      },
      "execution_count": null,
      "outputs": []
    },
    {
      "cell_type": "code",
      "source": [
        "no_images_per_class = [len(x) for x in X.values()]\n",
        "print(np.sum(no_images_per_class))\n",
        "print(max(no_images_per_class))\n",
        "print(min(no_images_per_class))"
      ],
      "metadata": {
        "id": "9rybT50nBk5L",
        "colab": {
          "base_uri": "https://localhost:8080/"
        },
        "outputId": "5084b462-add3-44e0-9410-b4f5fd60353e"
      },
      "execution_count": null,
      "outputs": [
        {
          "output_type": "stream",
          "name": "stdout",
          "text": [
            "6552\n",
            "206\n",
            "27\n"
          ]
        }
      ]
    },
    {
      "cell_type": "code",
      "source": [
        "def show(img):\n",
        "    display(Image.fromarray(img))"
      ],
      "metadata": {
        "id": "NnfTcx4F4Zfb"
      },
      "execution_count": null,
      "outputs": []
    },
    {
      "cell_type": "code",
      "source": [
        "import random\n",
        "X_val = {}\n",
        "\n",
        "\n",
        "for key, val in X.items():\n",
        "  val_samp = random.sample(X[key], 7)\n",
        "  X_val[key] = val_samp\n",
        "\n",
        "X_indexes = {}\n",
        "\n",
        "for key, val in X_val.items():\n",
        "  flower = X[key]\n",
        "  indexes = []\n",
        "  for image in val:\n",
        "      idx = flower.index(image)\n",
        "      indexes.append(idx)\n",
        "  X_indexes[key] = indexes\n",
        "\n",
        "print(X_indexes)"
      ],
      "metadata": {
        "id": "a6il_ffcRi59"
      },
      "execution_count": null,
      "outputs": []
    },
    {
      "cell_type": "code",
      "source": [
        "for key, value in X.items():\n",
        "  dest = \"gdrive/MyDrive/flower_data/train_reduced/{}/\".format(key)\n",
        "  os.makedirs(os.path.dirname(dest), exist_ok=True)\n",
        "  i = 0\n",
        "  for image in value:\n",
        "    if image not in X_val[key]:\n",
        "      image.save(dest + str(i),'jpeg')\n",
        "    i += 1\n",
        "  print(key)"
      ],
      "metadata": {
        "id": "po0P-ln2Wumr"
      },
      "execution_count": null,
      "outputs": []
    },
    {
      "cell_type": "code",
      "source": [
        "for key, value in X_val.items():\n",
        "  dest = \"gdrive/MyDrive/flower_data/val/{}/\".format(key)\n",
        "  os.makedirs(os.path.dirname(dest), exist_ok=True)\n",
        "  i = 0\n",
        "  for image in value:\n",
        "    image.save(dest + str(i),'jpeg')\n",
        "    i += 1\n",
        "  print(key)"
      ],
      "metadata": {
        "id": "7jLSx7k7HwEq"
      },
      "execution_count": null,
      "outputs": []
    },
    {
      "cell_type": "code",
      "source": [
        "def count_elements_in_directories(root_directory='train'):\n",
        "  number_of_elements_in_classes = []\n",
        "  for directory in os.listdir('gdrive/MyDrive/flower_data/' + root_directory):\n",
        "    current_directory = os.listdir('gdrive/MyDrive/flower_data/' + root_directory + '/' + directory)\n",
        "    files_number = len(current_directory)\n",
        "    number_of_elements_in_classes.append(files_number)\n",
        "    print(f'{directory}: {files_number}')\n",
        "\n",
        "  return number_of_elements_in_classes"
      ],
      "metadata": {
        "id": "VybB1fm7pKnN"
      },
      "execution_count": null,
      "outputs": []
    },
    {
      "cell_type": "code",
      "source": [
        "train = count_elements_in_directories()\n",
        "print()\n",
        "train_reduced = count_elements_in_directories('train_reduced')\n",
        "print()\n",
        "for i in range(len(train)):\n",
        "  print(train[i] - train_reduced[i])"
      ],
      "metadata": {
        "id": "-SMpSbwFqBae"
      },
      "execution_count": null,
      "outputs": []
    },
    {
      "cell_type": "code",
      "source": [
        "def get_crop_size(img, minprop=0.7):\n",
        "    def rand_prop(x):\n",
        "        return x + (1. - x) * np.random.random()\n",
        "\n",
        "    height, width, chanells = img.shape\n",
        "    height_prop = 1.\n",
        "    width_prop = 1.\n",
        "\n",
        "    if height > width:\n",
        "        height_prop = rand_prop(minprop)\n",
        "        width_prop = rand_prop(height_prop)\n",
        "    else:\n",
        "        width_prop = rand_prop(minprop)\n",
        "        height_prop = rand_prop(width_prop)\n",
        "\n",
        "    height = np.floor(height_prop * height).astype(int)\n",
        "    width = np.floor(width_prop * width).astype(int)\n",
        "    return (height, width, chanells)"
      ],
      "metadata": {
        "id": "hcClBISS6CLw"
      },
      "execution_count": null,
      "outputs": []
    },
    {
      "cell_type": "code",
      "source": [
        "def apply_random_transforms(img):\n",
        "    img = random_rotation(img, 20, row_axis=0, col_axis=1, channel_axis=2, fill_mode='reflect')\n",
        "    img = random_contrast(img, 0.8, 1.2)\n",
        "    img = random_brightness(img, 0.08)\n",
        "    img = random_hue(img, 0.025)\n",
        "    img = random_saturation(img, 0.85, 1.15)\n",
        "    img = random_jpeg_quality(img, 75, 95)\n",
        "    img = random_flip_left_right(img)\n",
        "    return random_crop(img, get_crop_size(img, 0.67)).numpy()\n",
        "\n",
        "def get_augmented_image(img):\n",
        "    return Image.fromarray(apply_random_transforms(np.array(img))).resize((224, 224))"
      ],
      "metadata": {
        "id": "egNQjhp-6Pfo"
      },
      "execution_count": null,
      "outputs": []
    },
    {
      "cell_type": "code",
      "source": [
        "def get_augmented_image(img):\n",
        "    return Image.fromarray(apply_random_transforms(np.array(img.convert('RGB')))).resize((224, 224))"
      ],
      "metadata": {
        "id": "jms1Q7Yy6RXo"
      },
      "execution_count": null,
      "outputs": []
    },
    {
      "cell_type": "code",
      "source": [
        "all_dirs = []\n",
        "\n",
        "for directory in os.listdir('gdrive/MyDrive/flower_data/train_reduced'):\n",
        "    all_dirs += [directory]"
      ],
      "metadata": {
        "id": "B_SKGZaEN68k"
      },
      "execution_count": null,
      "outputs": []
    },
    {
      "cell_type": "code",
      "source": [
        "for i, plant in enumerate(all_dirs):\n",
        "    print(\"[{:03}] '{}'\".format(i, plant))\n",
        "    original_photos = []\n",
        "    photos_names = []\n",
        "\n",
        "    for j, file in enumerate(os.listdir('gdrive/MyDrive/flower_data/train_reduced/' + plant)):\n",
        "        with Image.open('gdrive/MyDrive/flower_data/train_reduced/' + plant + '/' + file) as img:\n",
        "            original_photos += [img.copy()]\n",
        "            photos_names += ['gdrive/MyDrive/flower_data/train_reduced/' + plant + '/' + file]\n",
        "\n",
        "    dest = \"gdrive/MyDrive/flower_data/augmented_new/train/{}/\".format(plant)\n",
        "    os.makedirs(os.path.dirname(dest), exist_ok=True)\n",
        "\n",
        "    counter = 1\n",
        "\n",
        "    for j, img in enumerate(original_photos):\n",
        "        try:\n",
        "            img.convert('RGB').resize((224, 224)).save(\n",
        "                dest + \"{}_{}.jpg\".format(plant.replace(' ', '_'), counter)\n",
        "            )\n",
        "            counter += 1\n",
        "            print(\"\\r{}\".format(counter), end='')\n",
        "        except:\n",
        "            print(\"\\nError encountered: \", photos_names[j])\n",
        "            print(e)\n",
        "\n",
        "    n_items = len(original_photos)\n",
        "    while counter <= 100:\n",
        "        try:\n",
        "            get_augmented_image(original_photos[np.random.randint(n_items)]).save(\n",
        "                dest + \"{}_{}.jpg\".format(plant.replace(' ', '_'), counter)\n",
        "            )\n",
        "            counter += 1\n",
        "            print(\"\\r{}\".format(counter), end='')\n",
        "        except Exception as e:\n",
        "            print(\"\\nError encountered: \", photos_names[j])\n",
        "            print(e)"
      ],
      "metadata": {
        "id": "vegMIE4I6S-_"
      },
      "execution_count": null,
      "outputs": []
    },
    {
      "cell_type": "code",
      "source": [
        "for i, plant in enumerate(all_dirs):\n",
        "    print(\"[{:03}] '{}'\".format(i, plant))\n",
        "    original_photos = []\n",
        "    photos_names = []\n",
        "\n",
        "    for j, file in enumerate(os.listdir('gdrive/MyDrive/flower_data/val/' + plant)):\n",
        "        with Image.open('gdrive/MyDrive/flower_data/val/' + plant + '/' + file) as img:\n",
        "            original_photos += [img.copy()]\n",
        "            photos_names += ['gdrive/MyDrive/flower_data/val/' + plant + '/' + file]\n",
        "\n",
        "    dest = \"gdrive/MyDrive/flower_data/augmented/val/{}/\".format(plant)\n",
        "    os.makedirs(os.path.dirname(dest), exist_ok=True)\n",
        "\n",
        "    counter = 1\n",
        "\n",
        "    for j, img in enumerate(original_photos):\n",
        "        try:\n",
        "            img.convert('RGB').resize((224, 224)).save(\n",
        "                dest + \"{}_{}.jpg\".format(plant.replace(' ', '_'), counter)\n",
        "            )\n",
        "            counter += 1\n",
        "            print(\"\\r{}\".format(counter), end='')\n",
        "        except:\n",
        "            print(\"\\nError encountered: \", photos_names[j])\n",
        "            print(e)"
      ],
      "metadata": {
        "id": "BMw72-GzQRJY"
      },
      "execution_count": null,
      "outputs": []
    },
    {
      "cell_type": "code",
      "source": [
        "for i, plant in enumerate(all_dirs):\n",
        "    print(\"[{:03}] '{}'\".format(i, plant))\n",
        "    original_photos = []\n",
        "    photos_names = []\n",
        "\n",
        "    for j, file in enumerate(os.listdir('gdrive/MyDrive/flower_data/test/' + plant)):\n",
        "        with Image.open('gdrive/MyDrive/flower_data/test/' + plant + '/' + file) as img:\n",
        "            original_photos += [img.copy()]\n",
        "            photos_names += ['gdrive/MyDrive/flower_data/test/' + plant + '/' + file]\n",
        "\n",
        "    dest = \"gdrive/MyDrive/flower_data/augmented/test/{}/\".format(plant)\n",
        "    os.makedirs(os.path.dirname(dest), exist_ok=True)\n",
        "\n",
        "    counter = 1\n",
        "\n",
        "    for j, img in enumerate(original_photos):\n",
        "        try:\n",
        "            img.convert('RGB').resize((224, 224)).save(\n",
        "                dest + \"{}_{}.jpg\".format(plant.replace(' ', '_'), counter)\n",
        "            )\n",
        "            counter += 1\n",
        "            print(\"\\r{}\".format(counter), end='')\n",
        "        except:\n",
        "            print(\"\\nError encountered: \", photos_names[j])\n",
        "            print(e)"
      ],
      "metadata": {
        "id": "UenhwqBIC_z7"
      },
      "execution_count": null,
      "outputs": []
    },
    {
      "cell_type": "code",
      "source": [],
      "metadata": {
        "id": "Wbwkb8XmhRHA"
      },
      "execution_count": null,
      "outputs": []
    }
  ]
}