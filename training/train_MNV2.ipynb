{
  "cells": [
    {
      "cell_type": "code",
      "execution_count": null,
      "metadata": {
        "id": "p6BdOwa5E28A",
        "colab": {
          "base_uri": "https://localhost:8080/"
        },
        "outputId": "a7a9b689-0564-4010-a5d3-c0777ae2905e"
      },
      "outputs": [
        {
          "output_type": "stream",
          "name": "stdout",
          "text": [
            "Drive already mounted at /content/gdrive; to attempt to forcibly remount, call drive.mount(\"/content/gdrive\", force_remount=True).\n"
          ]
        }
      ],
      "source": [
        "from google.colab import drive\n",
        "drive.mount('/content/gdrive')"
      ]
    },
    {
      "cell_type": "code",
      "source": [
        "from tensorflow.python.client import device_lib\n",
        "device_lib.list_local_devices()"
      ],
      "metadata": {
        "id": "AUdrc5lKmdlB",
        "colab": {
          "base_uri": "https://localhost:8080/"
        },
        "outputId": "fd75ca0d-3fae-4b83-afac-78b1d06b8712"
      },
      "execution_count": null,
      "outputs": [
        {
          "output_type": "execute_result",
          "data": {
            "text/plain": [
              "[name: \"/device:CPU:0\"\n",
              " device_type: \"CPU\"\n",
              " memory_limit: 268435456\n",
              " locality {\n",
              " }\n",
              " incarnation: 10201919966866310855\n",
              " xla_global_id: -1,\n",
              " name: \"/device:GPU:0\"\n",
              " device_type: \"GPU\"\n",
              " memory_limit: 14328594432\n",
              " locality {\n",
              "   bus_id: 1\n",
              "   links {\n",
              "   }\n",
              " }\n",
              " incarnation: 10095377893787187263\n",
              " physical_device_desc: \"device: 0, name: Tesla T4, pci bus id: 0000:00:04.0, compute capability: 7.5\"\n",
              " xla_global_id: 416903419]"
            ]
          },
          "metadata": {},
          "execution_count": 2
        }
      ]
    },
    {
      "cell_type": "code",
      "execution_count": null,
      "metadata": {
        "id": "T7ivyotFIN7l"
      },
      "outputs": [],
      "source": [
        "import numpy as np\n",
        "import tensorflow as tf\n",
        "import tensorflow.keras as keras\n",
        "from tensorflow.keras.applications import MobileNetV2\n",
        "from tensorflow.keras.models import Model\n",
        "from keras.callbacks import ModelCheckpoint\n",
        "import os\n",
        "import random\n",
        "import matplotlib.pyplot as plt\n",
        "from sklearn.decomposition import PCA\n",
        "from sklearn.model_selection import ShuffleSplit"
      ]
    },
    {
      "cell_type": "code",
      "source": [
        "def set_all_seeds(seed):\n",
        "    os.environ[\"PL_GLOBAL_SEED\"] = str(seed)\n",
        "    random.seed(seed)\n",
        "    np.random.seed(seed)\n",
        "    tf.random.set_seed(seed)\n",
        "    tf.experimental.numpy.random.seed(seed)\n",
        "    os.environ['TF_CUDNN_DETERMINISTIC'] = '1'\n",
        "    os.environ['TF_DETERMINISTIC_OPS'] = '1'\n",
        "    os.environ[\"PYTHONHASHSEED\"] = str(seed)\n",
        "\n",
        "set_all_seeds(420)"
      ],
      "metadata": {
        "id": "_3937hlekBYC"
      },
      "execution_count": null,
      "outputs": []
    },
    {
      "cell_type": "code",
      "execution_count": null,
      "metadata": {
        "id": "PD5Z29VMIT1M"
      },
      "outputs": [],
      "source": [
        "model_mn2 = MobileNetV2(\n",
        "    input_shape=None, alpha=1.0, include_top=True, weights='imagenet',\n",
        "    input_tensor=None, pooling=None, classes=1000\n",
        ")"
      ]
    },
    {
      "cell_type": "code",
      "execution_count": null,
      "metadata": {
        "id": "FQ5jQ4yFIVmG"
      },
      "outputs": [],
      "source": [
        "model_mn2.summary()"
      ]
    },
    {
      "cell_type": "code",
      "execution_count": null,
      "metadata": {
        "id": "ymP-eapsIY-j"
      },
      "outputs": [],
      "source": [
        "layer_name = 'block_15_add'\n",
        "feature_extractor = Model(inputs=model_mn2.input, outputs=model_mn2.get_layer(layer_name).output)"
      ]
    },
    {
      "cell_type": "markdown",
      "metadata": {
        "id": "iKsTikqVIb6A"
      },
      "source": [
        "## Training"
      ]
    },
    {
      "cell_type": "code",
      "execution_count": null,
      "metadata": {
        "id": "6L7SisAUIdaB"
      },
      "outputs": [],
      "source": [
        "plants_names = []\n",
        "\n",
        "for plant in os.listdir('gdrive/MyDrive/flower_data/encoded/train'):\n",
        "    plants_names += [plant.split('.npy')[0]]\n",
        "\n",
        "plants_names.sort()\n",
        "plant_name_to_id = {plant: i for i, plant in enumerate(plants_names)}"
      ]
    },
    {
      "cell_type": "code",
      "execution_count": null,
      "metadata": {
        "id": "5Lvmf5FWIrV7",
        "colab": {
          "base_uri": "https://localhost:8080/"
        },
        "outputId": "fbc3f6e5-e457-42da-a73a-13dadd62c204"
      },
      "outputs": [
        {
          "output_type": "stream",
          "name": "stdout",
          "text": [
            "[101] val/16.npy"
          ]
        }
      ],
      "source": [
        "instances = {}\n",
        "labels = {}\n",
        "\n",
        "for set_kind in [\"test\", \"train\", \"val\"]:\n",
        "    X_per_class = []\n",
        "    y_per_class = []\n",
        "\n",
        "    for i, file in enumerate(os.listdir(f\"gdrive/MyDrive/flower_data/encoded/{set_kind}\")):\n",
        "        print(f\"\\r[{i}] {set_kind}/{file}\", end='')\n",
        "        plants_encoded = np.load(f\"gdrive/MyDrive/flower_data/encoded/{set_kind}/{file}\")\n",
        "        plant_name = file.split('.npy')[0]\n",
        "\n",
        "        X_per_class += [plants_encoded]\n",
        "        y_per_class += [plant_name_to_id[plant_name] for _ in range(plants_encoded.shape[0])]\n",
        "\n",
        "    instances[set_kind] = np.concatenate(X_per_class)\n",
        "    labels[set_kind] = np.array(y_per_class)"
      ]
    },
    {
      "cell_type": "code",
      "execution_count": null,
      "metadata": {
        "id": "pMrCatiSI9yt"
      },
      "outputs": [],
      "source": [
        "n_classes = len(plants_names)\n",
        "\n",
        "X_train = instances['train']\n",
        "y_train = np.eye(n_classes)[labels['train']]\n",
        "\n",
        "\n",
        "X_valid = instances['val']\n",
        "y_valid = np.eye(n_classes)[labels['val']]\n",
        "\n",
        "X_test = instances['test']\n",
        "y_test = np.eye(n_classes)[labels['test']]"
      ]
    },
    {
      "cell_type": "code",
      "execution_count": null,
      "metadata": {
        "id": "BbC1jn4dJOyr",
        "colab": {
          "base_uri": "https://localhost:8080/"
        },
        "outputId": "e83caddc-38c3-4b8c-d366-0f1512aa0c06"
      },
      "outputs": [
        {
          "output_type": "stream",
          "name": "stdout",
          "text": [
            "Model: \"model_1\"\n",
            "_________________________________________________________________\n",
            " Layer (type)                Output Shape              Param #   \n",
            "=================================================================\n",
            " submodel_inputs (InputLayer  [(None, 7, 7, 160)]      0         \n",
            " )                                                               \n",
            "                                                                 \n",
            " block_16_expand (Conv2D)    (None, 7, 7, 960)         153600    \n",
            "                                                                 \n",
            " block_16_expand_BN (BatchNo  (None, 7, 7, 960)        3840      \n",
            " rmalization)                                                    \n",
            "                                                                 \n",
            " block_16_expand_relu (ReLU)  (None, 7, 7, 960)        0         \n",
            "                                                                 \n",
            " block_16_depthwise (Depthwi  (None, 7, 7, 960)        8640      \n",
            " seConv2D)                                                       \n",
            "                                                                 \n",
            " block_16_depthwise_BN (Batc  (None, 7, 7, 960)        3840      \n",
            " hNormalization)                                                 \n",
            "                                                                 \n",
            " block_16_depthwise_relu (Re  (None, 7, 7, 960)        0         \n",
            " LU)                                                             \n",
            "                                                                 \n",
            " block_16_project (Conv2D)   (None, 7, 7, 320)         307200    \n",
            "                                                                 \n",
            " block_16_project_BN (BatchN  (None, 7, 7, 320)        1280      \n",
            " ormalization)                                                   \n",
            "                                                                 \n",
            " Conv_1 (Conv2D)             (None, 7, 7, 1280)        409600    \n",
            "                                                                 \n",
            " Conv_1_bn (BatchNormalizati  (None, 7, 7, 1280)       5120      \n",
            " on)                                                             \n",
            "                                                                 \n",
            " out_relu (ReLU)             (None, 7, 7, 1280)        0         \n",
            "                                                                 \n",
            " global_average_pooling2d (G  (None, 1280)             0         \n",
            " lobalAveragePooling2D)                                          \n",
            "                                                                 \n",
            " dropout (Dropout)           (None, 1280)              0         \n",
            "                                                                 \n",
            " predictions (Dense)         (None, 102)               130662    \n",
            "                                                                 \n",
            "=================================================================\n",
            "Total params: 1,023,782\n",
            "Trainable params: 1,016,742\n",
            "Non-trainable params: 7,040\n",
            "_________________________________________________________________\n"
          ]
        }
      ],
      "source": [
        "input_layer = tf.keras.layers.Input(shape=[7, 7, 160], name=\"submodel_inputs\")\n",
        "intermediate = tf.keras.layers.Conv2D(filters=960, kernel_size=1, use_bias=False, name=\"block_16_expand\")(input_layer)\n",
        "intermediate = tf.keras.layers.BatchNormalization(name=\"block_16_expand_BN\")(intermediate)\n",
        "intermediate = tf.keras.layers.ReLU(name=\"block_16_expand_relu\")(intermediate)\n",
        "intermediate = tf.keras.layers.DepthwiseConv2D(\n",
        "    kernel_size=3, padding='same', use_bias=False, name=\"block_16_depthwise\")(intermediate)\n",
        "intermediate = tf.keras.layers.BatchNormalization(name=\"block_16_depthwise_BN\")(intermediate)\n",
        "intermediate = tf.keras.layers.ReLU(name=\"block_16_depthwise_relu\")(intermediate)\n",
        "intermediate = tf.keras.layers.Conv2D(filters=320, kernel_size=1, use_bias=False, name=\"block_16_project\")(intermediate)\n",
        "intermediate = tf.keras.layers.BatchNormalization(name=\"block_16_project_BN\")(intermediate)\n",
        "intermediate = tf.keras.layers.Conv2D(filters=1280, kernel_size=1, use_bias=False, name=\"Conv_1\")(intermediate)\n",
        "intermediate = tf.keras.layers.BatchNormalization(name=\"Conv_1_bn\")(intermediate)\n",
        "intermediate = tf.keras.layers.ReLU(name=\"out_relu\")(intermediate)\n",
        "intermediate = tf.keras.layers.GlobalAveragePooling2D(name=\"global_average_pooling2d\")(intermediate)\n",
        "intermediate = tf.keras.layers.Dropout(rate=0.2, name=\"dropout\")(intermediate)\n",
        "output_layer = tf.keras.layers.Dense(\n",
        "    units=102, activation=\"softmax\", kernel_regularizer=keras.regularizers.l1(0.01), name=\"predictions\")(intermediate)\n",
        "\n",
        "model = Model(input_layer, output_layer)\n",
        "model.summary()\n",
        "\n",
        "for layer in model.layers:\n",
        "    if layer.name not in [\"submodel_inputs\", \"dropout\", \"predictions\"]:\n",
        "        layer.set_weights(model_mn2.get_layer(layer.name).get_weights())"
      ]
    },
    {
      "cell_type": "code",
      "execution_count": null,
      "metadata": {
        "id": "lqPu5IQcJaXW"
      },
      "outputs": [],
      "source": [
        "model.compile(\n",
        "    loss=\"categorical_crossentropy\",\n",
        "    optimizer=\"nadam\",\n",
        "    metrics=[\"accuracy\"]\n",
        ")"
      ]
    },
    {
      "cell_type": "code",
      "execution_count": null,
      "metadata": {
        "id": "8_cy2IEqJjUB"
      },
      "outputs": [],
      "source": [
        "lr_scheduler = keras.callbacks.ReduceLROnPlateau(factor=0.1, patience=1)"
      ]
    },
    {
      "cell_type": "code",
      "execution_count": null,
      "metadata": {
        "id": "HblJEgQKJlLe"
      },
      "outputs": [],
      "source": [
        "idx = np.arange(X_train.shape[0])\n",
        "np.random.shuffle(idx)\n",
        "\n",
        "X_train_shuffled = X_train[idx]\n",
        "y_train_shuffled = y_train[idx]\n",
        "\n",
        "# Free some precious RAM\n",
        "del X_train\n",
        "del instances['train']"
      ]
    },
    {
      "cell_type": "code",
      "execution_count": null,
      "metadata": {
        "id": "CXfQx-rnJs5B",
        "colab": {
          "base_uri": "https://localhost:8080/"
        },
        "outputId": "086a820b-ad68-46a6-f595-70023e23d2d5"
      },
      "outputs": [
        {
          "output_type": "stream",
          "name": "stdout",
          "text": [
            "Epoch 1/10\n",
            "332/333 [============================>.] - ETA: 0s - loss: 7.1402 - accuracy: 0.7476\n",
            "Epoch 1: val_loss improved from inf to 1.75924, saving model to model_mobilenetv2_regularized_oxford102\n"
          ]
        },
        {
          "output_type": "stream",
          "name": "stderr",
          "text": [
            "WARNING:absl:Found untraced functions such as _jit_compiled_convolution_op, _jit_compiled_convolution_op, _jit_compiled_convolution_op, _jit_compiled_convolution_op while saving (showing 4 of 4). These functions will not be directly callable after loading.\n"
          ]
        },
        {
          "output_type": "stream",
          "name": "stdout",
          "text": [
            "\b\b\b\b\b\b\b\b\b\b\b\b\b\b\b\b\b\b\b\b\b\b\b\b\b\b\b\b\b\b\b\b\b\b\b\b\b\b\b\b\b\b\b\b\b\b\b\b\b\b\b\b\b\b\b\b\b\b\b\b\b\b\b\b\b\b\b\b\b\b\b\b\b\b\b\b\b\b\b\b\b\b\b\b\r333/333 [==============================] - 17s 23ms/step - loss: 7.1358 - accuracy: 0.7474 - val_loss: 1.7592 - val_accuracy: 0.8908 - lr: 0.0010\n",
            "Epoch 2/10\n",
            "329/333 [============================>.] - ETA: 0s - loss: 1.6692 - accuracy: 0.9247\n",
            "Epoch 2: val_loss improved from 1.75924 to 1.39664, saving model to model_mobilenetv2_regularized_oxford102\n"
          ]
        },
        {
          "output_type": "stream",
          "name": "stderr",
          "text": [
            "WARNING:absl:Found untraced functions such as _jit_compiled_convolution_op, _jit_compiled_convolution_op, _jit_compiled_convolution_op, _jit_compiled_convolution_op while saving (showing 4 of 4). These functions will not be directly callable after loading.\n"
          ]
        },
        {
          "output_type": "stream",
          "name": "stdout",
          "text": [
            "\b\b\b\b\b\b\b\b\b\b\b\b\b\b\b\b\b\b\b\b\b\b\b\b\b\b\b\b\b\b\b\b\b\b\b\b\b\b\b\b\b\b\b\b\b\b\b\b\b\b\b\b\b\b\b\b\b\b\b\b\b\b\b\b\b\b\b\b\b\b\b\b\b\b\b\b\b\b\b\b\b\b\b\b\r333/333 [==============================] - 6s 18ms/step - loss: 1.6682 - accuracy: 0.9245 - val_loss: 1.3966 - val_accuracy: 0.9300 - lr: 0.0010\n",
            "Epoch 3/10\n",
            "333/333 [==============================] - ETA: 0s - loss: 1.3842 - accuracy: 0.9516\n",
            "Epoch 3: val_loss improved from 1.39664 to 1.29316, saving model to model_mobilenetv2_regularized_oxford102\n"
          ]
        },
        {
          "output_type": "stream",
          "name": "stderr",
          "text": [
            "WARNING:absl:Found untraced functions such as _jit_compiled_convolution_op, _jit_compiled_convolution_op, _jit_compiled_convolution_op, _jit_compiled_convolution_op while saving (showing 4 of 4). These functions will not be directly callable after loading.\n"
          ]
        },
        {
          "output_type": "stream",
          "name": "stdout",
          "text": [
            "\b\b\b\b\b\b\b\b\b\b\b\b\b\b\b\b\b\b\b\b\b\b\b\b\b\b\b\b\b\b\b\b\b\b\b\b\b\b\b\b\b\b\b\b\b\b\b\b\b\b\b\b\b\b\b\b\b\b\b\b\b\b\b\b\b\b\b\b\b\b\b\b\b\b\b\b\b\b\b\b\b\b\b\b\r333/333 [==============================] - 6s 17ms/step - loss: 1.3842 - accuracy: 0.9516 - val_loss: 1.2932 - val_accuracy: 0.9566 - lr: 0.0010\n",
            "Epoch 4/10\n",
            "331/333 [============================>.] - ETA: 0s - loss: 1.2497 - accuracy: 0.9680\n",
            "Epoch 4: val_loss improved from 1.29316 to 1.21352, saving model to model_mobilenetv2_regularized_oxford102\n"
          ]
        },
        {
          "output_type": "stream",
          "name": "stderr",
          "text": [
            "WARNING:absl:Found untraced functions such as _jit_compiled_convolution_op, _jit_compiled_convolution_op, _jit_compiled_convolution_op, _jit_compiled_convolution_op while saving (showing 4 of 4). These functions will not be directly callable after loading.\n"
          ]
        },
        {
          "output_type": "stream",
          "name": "stdout",
          "text": [
            "\b\b\b\b\b\b\b\b\b\b\b\b\b\b\b\b\b\b\b\b\b\b\b\b\b\b\b\b\b\b\b\b\b\b\b\b\b\b\b\b\b\b\b\b\b\b\b\b\b\b\b\b\b\b\b\b\b\b\b\b\b\b\b\b\b\b\b\b\b\b\b\b\b\b\b\b\b\b\b\b\b\b\b\b\r333/333 [==============================] - 6s 19ms/step - loss: 1.2504 - accuracy: 0.9679 - val_loss: 1.2135 - val_accuracy: 0.9426 - lr: 0.0010\n",
            "Epoch 5/10\n",
            "329/333 [============================>.] - ETA: 0s - loss: 1.1750 - accuracy: 0.9726\n",
            "Epoch 5: val_loss improved from 1.21352 to 1.13055, saving model to model_mobilenetv2_regularized_oxford102\n"
          ]
        },
        {
          "output_type": "stream",
          "name": "stderr",
          "text": [
            "WARNING:absl:Found untraced functions such as _jit_compiled_convolution_op, _jit_compiled_convolution_op, _jit_compiled_convolution_op, _jit_compiled_convolution_op while saving (showing 4 of 4). These functions will not be directly callable after loading.\n"
          ]
        },
        {
          "output_type": "stream",
          "name": "stdout",
          "text": [
            "\b\b\b\b\b\b\b\b\b\b\b\b\b\b\b\b\b\b\b\b\b\b\b\b\b\b\b\b\b\b\b\b\b\b\b\b\b\b\b\b\b\b\b\b\b\b\b\b\b\b\b\b\b\b\b\b\b\b\b\b\b\b\b\b\b\b\b\b\b\b\b\b\b\b\b\b\b\b\b\b\b\b\b\b\r333/333 [==============================] - 5s 16ms/step - loss: 1.1749 - accuracy: 0.9727 - val_loss: 1.1306 - val_accuracy: 0.9580 - lr: 0.0010\n",
            "Epoch 6/10\n",
            "333/333 [==============================] - ETA: 0s - loss: 1.1340 - accuracy: 0.9736\n",
            "Epoch 6: val_loss did not improve from 1.13055\n",
            "333/333 [==============================] - 4s 11ms/step - loss: 1.1340 - accuracy: 0.9736 - val_loss: 1.1717 - val_accuracy: 0.9482 - lr: 0.0010\n",
            "Epoch 7/10\n",
            "329/333 [============================>.] - ETA: 0s - loss: 0.8798 - accuracy: 0.9861\n",
            "Epoch 7: val_loss improved from 1.13055 to 0.84200, saving model to model_mobilenetv2_regularized_oxford102\n"
          ]
        },
        {
          "output_type": "stream",
          "name": "stderr",
          "text": [
            "WARNING:absl:Found untraced functions such as _jit_compiled_convolution_op, _jit_compiled_convolution_op, _jit_compiled_convolution_op, _jit_compiled_convolution_op while saving (showing 4 of 4). These functions will not be directly callable after loading.\n"
          ]
        },
        {
          "output_type": "stream",
          "name": "stdout",
          "text": [
            "\b\b\b\b\b\b\b\b\b\b\b\b\b\b\b\b\b\b\b\b\b\b\b\b\b\b\b\b\b\b\b\b\b\b\b\b\b\b\b\b\b\b\b\b\b\b\b\b\b\b\b\b\b\b\b\b\b\b\b\b\b\b\b\b\b\b\b\b\b\b\b\b\b\b\b\b\b\b\b\b\b\b\b\b\r333/333 [==============================] - 6s 19ms/step - loss: 0.8813 - accuracy: 0.9860 - val_loss: 0.8420 - val_accuracy: 0.9692 - lr: 1.0000e-04\n",
            "Epoch 8/10\n",
            "330/333 [============================>.] - ETA: 0s - loss: 0.8315 - accuracy: 0.9905\n",
            "Epoch 8: val_loss improved from 0.84200 to 0.82442, saving model to model_mobilenetv2_regularized_oxford102\n"
          ]
        },
        {
          "output_type": "stream",
          "name": "stderr",
          "text": [
            "WARNING:absl:Found untraced functions such as _jit_compiled_convolution_op, _jit_compiled_convolution_op, _jit_compiled_convolution_op, _jit_compiled_convolution_op while saving (showing 4 of 4). These functions will not be directly callable after loading.\n"
          ]
        },
        {
          "output_type": "stream",
          "name": "stdout",
          "text": [
            "\b\b\b\b\b\b\b\b\b\b\b\b\b\b\b\b\b\b\b\b\b\b\b\b\b\b\b\b\b\b\b\b\b\b\b\b\b\b\b\b\b\b\b\b\b\b\b\b\b\b\b\b\b\b\b\b\b\b\b\b\b\b\b\b\b\b\b\b\b\b\b\b\b\b\b\b\b\b\b\b\b\b\b\b\r333/333 [==============================] - 5s 16ms/step - loss: 0.8323 - accuracy: 0.9905 - val_loss: 0.8244 - val_accuracy: 0.9678 - lr: 1.0000e-04\n",
            "Epoch 9/10\n",
            "332/333 [============================>.] - ETA: 0s - loss: 0.8150 - accuracy: 0.9922\n",
            "Epoch 9: val_loss improved from 0.82442 to 0.81460, saving model to model_mobilenetv2_regularized_oxford102\n"
          ]
        },
        {
          "output_type": "stream",
          "name": "stderr",
          "text": [
            "WARNING:absl:Found untraced functions such as _jit_compiled_convolution_op, _jit_compiled_convolution_op, _jit_compiled_convolution_op, _jit_compiled_convolution_op while saving (showing 4 of 4). These functions will not be directly callable after loading.\n"
          ]
        },
        {
          "output_type": "stream",
          "name": "stdout",
          "text": [
            "\b\b\b\b\b\b\b\b\b\b\b\b\b\b\b\b\b\b\b\b\b\b\b\b\b\b\b\b\b\b\b\b\b\b\b\b\b\b\b\b\b\b\b\b\b\b\b\b\b\b\b\b\b\b\b\b\b\b\b\b\b\b\b\b\b\b\b\b\b\b\b\b\b\b\b\b\b\b\b\b\b\b\b\b\r333/333 [==============================] - 6s 19ms/step - loss: 0.8164 - accuracy: 0.9920 - val_loss: 0.8146 - val_accuracy: 0.9664 - lr: 1.0000e-04\n",
            "Epoch 10/10\n",
            "328/333 [============================>.] - ETA: 0s - loss: 0.8096 - accuracy: 0.9930\n",
            "Epoch 10: val_loss improved from 0.81460 to 0.80766, saving model to model_mobilenetv2_regularized_oxford102\n"
          ]
        },
        {
          "output_type": "stream",
          "name": "stderr",
          "text": [
            "WARNING:absl:Found untraced functions such as _jit_compiled_convolution_op, _jit_compiled_convolution_op, _jit_compiled_convolution_op, _jit_compiled_convolution_op while saving (showing 4 of 4). These functions will not be directly callable after loading.\n"
          ]
        },
        {
          "output_type": "stream",
          "name": "stdout",
          "text": [
            "\b\b\b\b\b\b\b\b\b\b\b\b\b\b\b\b\b\b\b\b\b\b\b\b\b\b\b\b\b\b\b\b\b\b\b\b\b\b\b\b\b\b\b\b\b\b\b\b\b\b\b\b\b\b\b\b\b\b\b\b\b\b\b\b\b\b\b\b\b\b\b\b\b\b\b\b\b\b\b\b\b\b\b\b\r333/333 [==============================] - 6s 17ms/step - loss: 0.8112 - accuracy: 0.9929 - val_loss: 0.8077 - val_accuracy: 0.9748 - lr: 1.0000e-04\n"
          ]
        }
      ],
      "source": [
        "checkpoint = ModelCheckpoint(filepath='model_mobilenetv2_regularized_oxford102',\n",
        "                             monitor='val_loss',\n",
        "                             verbose=1,\n",
        "                             save_best_only=True,\n",
        "                             mode='min')\n",
        "\n",
        "history = model.fit(\n",
        "    X_train_shuffled, y_train_shuffled,\n",
        "    epochs=10,\n",
        "    validation_data=(X_valid, y_valid),\n",
        "    callbacks=[lr_scheduler, checkpoint]\n",
        ")"
      ]
    },
    {
      "cell_type": "code",
      "execution_count": null,
      "metadata": {
        "id": "cLsVEZRaTEJZ",
        "colab": {
          "base_uri": "https://localhost:8080/"
        },
        "outputId": "30cf0d2e-9525-4855-84a2-fe67870a5740"
      },
      "outputs": [
        {
          "output_type": "stream",
          "name": "stderr",
          "text": [
            "WARNING:absl:Found untraced functions such as _jit_compiled_convolution_op, _jit_compiled_convolution_op, _jit_compiled_convolution_op, _jit_compiled_convolution_op while saving (showing 4 of 4). These functions will not be directly callable after loading.\n"
          ]
        }
      ],
      "source": [
        "model.save(\"model_mobilenetv2_regularized_oxford102\")"
      ]
    },
    {
      "cell_type": "code",
      "execution_count": null,
      "metadata": {
        "id": "2uGnO4gXrIE0",
        "colab": {
          "base_uri": "https://localhost:8080/"
        },
        "outputId": "53f5438b-353f-4ffb-8952-538b2a10f721"
      },
      "outputs": [
        {
          "output_type": "stream",
          "name": "stdout",
          "text": [
            "  adding: model_mobilenetv2_regularized_oxford102/ (stored 0%)\n",
            "  adding: model_mobilenetv2_regularized_oxford102/fingerprint.pb (stored 0%)\n",
            "  adding: model_mobilenetv2_regularized_oxford102/variables/ (stored 0%)\n",
            "  adding: model_mobilenetv2_regularized_oxford102/variables/variables.data-00000-of-00001 (deflated 8%)\n",
            "  adding: model_mobilenetv2_regularized_oxford102/variables/variables.index (deflated 67%)\n",
            "  adding: model_mobilenetv2_regularized_oxford102/keras_metadata.pb (deflated 92%)\n",
            "  adding: model_mobilenetv2_regularized_oxford102/assets/ (stored 0%)\n",
            "  adding: model_mobilenetv2_regularized_oxford102/saved_model.pb (deflated 89%)\n"
          ]
        }
      ],
      "source": [
        "!zip -r model_mobilenetv2_regularized.zip model_mobilenetv2_regularized_oxford102/"
      ]
    },
    {
      "cell_type": "code",
      "source": [
        "def top_k_accuracy_score(y_true, y_pred, k=1):\n",
        "    ranks = np.sum(y_pred >= y_pred[y_true == 1].reshape(-1, 1), axis=1)\n",
        "    return np.sum(ranks <= k) / ranks.shape[0]\n",
        "\n",
        "model = keras.models.load_model('model_mobilenetv2_regularized_oxford102')\n",
        "print(\"Validation set accuracy\")\n",
        "preds_valid_1 = model(tf.reshape(X_valid, [-1, 7, 7, 160])).numpy()\n",
        "\n",
        "print(\"TOP 1\", top_k_accuracy_score(y_valid, preds_valid_1, k=1))\n",
        "print(\"TOP 5\", top_k_accuracy_score(y_valid, preds_valid_1, k=5))\n",
        "\n",
        "print(\"Test set\")\n",
        "preds_test_aug_1 = model(tf.reshape(X_test, [-1, 7, 7, 160])).numpy()\n",
        "\n",
        "print(\"TOP 1\", top_k_accuracy_score(y_test, preds_test_aug_1, k=1))\n",
        "print(\"TOP 5\", top_k_accuracy_score(y_test, preds_test_aug_1, k=5))"
      ],
      "metadata": {
        "colab": {
          "base_uri": "https://localhost:8080/"
        },
        "id": "F0FYXnu10w_T",
        "outputId": "0bad00e7-2a52-4bd0-a0a7-e35fa2417ba8"
      },
      "execution_count": null,
      "outputs": [
        {
          "output_type": "stream",
          "name": "stdout",
          "text": [
            "Validation set accuracy\n",
            "TOP 1 0.9747899159663865\n",
            "TOP 5 0.9957983193277311\n",
            "Test set\n",
            "TOP 1 0.9572127139364304\n",
            "TOP 5 0.9902200488997555\n"
          ]
        }
      ]
    },
    {
      "cell_type": "code",
      "source": [],
      "metadata": {
        "id": "oCbW2K9k1z7u"
      },
      "execution_count": null,
      "outputs": []
    }
  ],
  "metadata": {
    "accelerator": "GPU",
    "colab": {
      "provenance": []
    },
    "gpuClass": "standard",
    "kernelspec": {
      "display_name": "Python 3",
      "name": "python3"
    },
    "language_info": {
      "name": "python"
    }
  },
  "nbformat": 4,
  "nbformat_minor": 0
}