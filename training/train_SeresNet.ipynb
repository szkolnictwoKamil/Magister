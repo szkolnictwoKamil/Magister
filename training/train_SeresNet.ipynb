{
  "nbformat": 4,
  "nbformat_minor": 0,
  "metadata": {
    "colab": {
      "provenance": []
    },
    "kernelspec": {
      "name": "python3",
      "display_name": "Python 3"
    },
    "language_info": {
      "name": "python"
    },
    "accelerator": "GPU",
    "gpuClass": "standard"
  },
  "cells": [
    {
      "cell_type": "code",
      "execution_count": null,
      "metadata": {
        "id": "Am1ZIpHHy1Km",
        "colab": {
          "base_uri": "https://localhost:8080/"
        },
        "outputId": "5497d9ee-984d-48ae-c046-83cc15ace546"
      },
      "outputs": [
        {
          "output_type": "stream",
          "name": "stdout",
          "text": [
            "Mounted at /content/gdrive\n"
          ]
        }
      ],
      "source": [
        "from google.colab import drive\n",
        "drive.mount('/content/gdrive')\n"
      ]
    },
    {
      "cell_type": "code",
      "source": [
        "import numpy as np\n",
        "import tensorflow as tf\n",
        "import tensorflow.keras as keras\n",
        "from tensorflow.keras.applications import MobileNetV2\n",
        "from tensorflow.keras.models import Model\n",
        "import os\n",
        "import gc\n",
        "import matplotlib.pyplot as plt\n",
        "from sklearn.decomposition import PCA\n",
        "from sklearn.model_selection import ShuffleSplit"
      ],
      "metadata": {
        "id": "LPb3oekhzMiB"
      },
      "execution_count": null,
      "outputs": []
    },
    {
      "cell_type": "code",
      "source": [
        "import random\n",
        "def set_all_seeds(seed):\n",
        "    os.environ[\"PL_GLOBAL_SEED\"] = str(seed)\n",
        "    random.seed(seed)\n",
        "    np.random.seed(seed)\n",
        "    tf.random.set_seed(seed)\n",
        "    tf.experimental.numpy.random.seed(seed)\n",
        "    os.environ['TF_CUDNN_DETERMINISTIC'] = '1'\n",
        "    os.environ['TF_DETERMINISTIC_OPS'] = '1'\n",
        "    os.environ[\"PYTHONHASHSEED\"] = str(seed)\n",
        "\n",
        "set_all_seeds(420)"
      ],
      "metadata": {
        "id": "ANtYxbb-kDZY"
      },
      "execution_count": null,
      "outputs": []
    },
    {
      "cell_type": "code",
      "source": [
        "model_mn2 = MobileNetV2(\n",
        "    input_shape=None, alpha=1.0, include_top=True, weights='imagenet',\n",
        "    input_tensor=None, pooling=None, classes=1000\n",
        ")"
      ],
      "metadata": {
        "id": "QOREPX6ZzO1b",
        "colab": {
          "base_uri": "https://localhost:8080/"
        },
        "outputId": "200bb9ba-4119-4baa-dd54-48c427bae9aa"
      },
      "execution_count": null,
      "outputs": [
        {
          "output_type": "stream",
          "name": "stdout",
          "text": [
            "Downloading data from https://storage.googleapis.com/tensorflow/keras-applications/mobilenet_v2/mobilenet_v2_weights_tf_dim_ordering_tf_kernels_1.0_224.h5\n",
            "14536120/14536120 [==============================] - 0s 0us/step\n"
          ]
        }
      ]
    },
    {
      "cell_type": "code",
      "source": [
        "model_mn2.summary()"
      ],
      "metadata": {
        "id": "cL1MmHQpzWrp"
      },
      "execution_count": null,
      "outputs": []
    },
    {
      "cell_type": "code",
      "source": [
        "layer_name = 'block_15_add'\n",
        "feature_extractor = Model(inputs=model_mn2.input, outputs=model_mn2.get_layer(layer_name).output)"
      ],
      "metadata": {
        "id": "uac1gyKdzXO7"
      },
      "execution_count": null,
      "outputs": []
    },
    {
      "cell_type": "code",
      "source": [
        "plants_names = []\n",
        "\n",
        "for plant in os.listdir('gdrive/MyDrive/flower_data/encoded/train'):\n",
        "    plants_names += [plant.split('.npy')[0]]\n",
        "\n",
        "plants_names.sort()\n",
        "plant_name_to_id = {plant: i for i, plant in enumerate(plants_names)}"
      ],
      "metadata": {
        "id": "dh0houNDzaG1"
      },
      "execution_count": null,
      "outputs": []
    },
    {
      "cell_type": "code",
      "source": [
        "instances = {}\n",
        "labels = {}\n",
        "\n",
        "for set_kind in [\"test\", \"train\", \"val\"]:\n",
        "    X_per_class = []\n",
        "    y_per_class = []\n",
        "\n",
        "    for i, file in enumerate(os.listdir(f\"gdrive/MyDrive/flower_data/encoded/{set_kind}\")):\n",
        "        print(f\"\\r[{i}] {set_kind}/{file}\", end='')\n",
        "        plants_encoded = np.load(f\"gdrive/MyDrive/flower_data/encoded/{set_kind}/{file}\")\n",
        "        plant_name = file.split('.npy')[0]\n",
        "\n",
        "        X_per_class += [plants_encoded]\n",
        "        y_per_class += [plant_name_to_id[plant_name] for _ in range(plants_encoded.shape[0])]\n",
        "\n",
        "    instances[set_kind] = np.concatenate(X_per_class)\n",
        "    labels[set_kind] = np.array(y_per_class)"
      ],
      "metadata": {
        "id": "0f4hrbN5zicw",
        "colab": {
          "base_uri": "https://localhost:8080/"
        },
        "outputId": "8ff55724-0733-4587-fd3a-c528efc2e54b"
      },
      "execution_count": null,
      "outputs": [
        {
          "output_type": "stream",
          "name": "stdout",
          "text": [
            "[101] val/16.npy"
          ]
        }
      ]
    },
    {
      "cell_type": "code",
      "source": [
        "n_classes = len(plants_names)\n",
        "\n",
        "X_train = instances['train']\n",
        "y_train = np.eye(n_classes)[labels['train']]\n",
        "\n",
        "X_valid = instances['val']\n",
        "y_valid = np.eye(n_classes)[labels['val']]\n",
        "\n",
        "X_test = instances['test']\n",
        "y_test = np.eye(n_classes)[labels['test']]"
      ],
      "metadata": {
        "id": "DQHDQ204zmC9"
      },
      "execution_count": null,
      "outputs": []
    },
    {
      "cell_type": "code",
      "source": [
        "input_layer = tf.keras.layers.Input(shape=[7, 7, 160], name=\"submodel_inputs\")\n",
        "\n",
        "block1 = tf.keras.layers.Conv2D(filters=320, kernel_size=1, use_bias=False, name=\"block_1_1_conv2d\")(input_layer)\n",
        "block1 = tf.keras.layers.BatchNormalization(name=\"block_1_1_bn\")(block1)\n",
        "block1 = tf.keras.layers.ReLU(name=\"block_1_1_relu\")(block1)\n",
        "block1 = tf.keras.layers.DepthwiseConv2D(kernel_size=3, padding='same', use_bias=False, name=\"block_1_2_depthwise\")(block1)\n",
        "block1 = tf.keras.layers.BatchNormalization(name=\"block_1_2_bn\")(block1)\n",
        "block1 = tf.keras.layers.ReLU(name=\"block_1_2_relu\")(block1)\n",
        "block1 = tf.keras.layers.Conv2D(filters=160, kernel_size=1, use_bias=False, name=\"block_1_3_conv2d\")(block1)\n",
        "block1 = tf.keras.layers.BatchNormalization(name=\"block_1_3_bn\")(block1)\n",
        "block1 = tf.keras.layers.ReLU(name=\"block_1_3_relu\")(block1)\n",
        "\n",
        "se_block1 = tf.keras.layers.GlobalAveragePooling2D(name=\"se_block_1_gap2d\")(input_layer)\n",
        "se_block1 = tf.keras.layers.Dense(units=24, name=\"se_block_1_1_dense\")(se_block1)\n",
        "se_block1 = tf.keras.layers.ReLU(name=\"se_block_1_1_relu\")(se_block1)\n",
        "se_block1 = tf.keras.layers.Dense(units=160, name=\"se_block_1_2_dense\")(se_block1)\n",
        "se_block1 = tf.keras.layers.Activation(\"sigmoid\", name=\"se_block_1_2_sigmoid\")(se_block1)\n",
        "\n",
        "multiplication1 = tf.keras.layers.Multiply()([block1, se_block1])\n",
        "addition1 = tf.keras.layers.Add()([input_layer, multiplication1])\n",
        "\n",
        "block4 = tf.keras.layers.Conv2D(filters=720, kernel_size=1, use_bias=False, name=\"block_3_1_cond2d\")(addition1)\n",
        "block4 = tf.keras.layers.BatchNormalization(name=\"block_3_1_bn\")(block4)\n",
        "block4 = tf.keras.layers.ReLU(name=\"block_3_2_relu\")(block4)\n",
        "\n",
        "final_part = tf.keras.layers.GlobalAveragePooling2D(name=\"global_average_pooling2d\")(block4)\n",
        "final_part = tf.keras.layers.Dropout(rate=0.2, name=\"dropout\")(final_part)\n",
        "output_layer = tf.keras.layers.Dense(units=102, activation=\"softmax\", kernel_initializer=\"he_normal\", name=\"predictions\")(final_part)\n",
        "\n",
        "\n",
        "model = Model(input_layer, output_layer)"
      ],
      "metadata": {
        "id": "E7MK7zvhz49i"
      },
      "execution_count": null,
      "outputs": []
    },
    {
      "cell_type": "code",
      "source": [
        "model.summary()"
      ],
      "metadata": {
        "id": "FD-xEPvxz7AD"
      },
      "execution_count": null,
      "outputs": []
    },
    {
      "cell_type": "code",
      "source": [
        "model.compile(\n",
        "    loss=\"categorical_crossentropy\",\n",
        "    optimizer=\"nadam\",\n",
        "    metrics=[\"accuracy\"]\n",
        ")"
      ],
      "metadata": {
        "id": "WGFqcMIbz85t"
      },
      "execution_count": null,
      "outputs": []
    },
    {
      "cell_type": "code",
      "source": [
        "lr_scheduler = keras.callbacks.ReduceLROnPlateau(factor=0.66, patience=4)"
      ],
      "metadata": {
        "id": "6UGx3ugK0BYE"
      },
      "execution_count": null,
      "outputs": []
    },
    {
      "cell_type": "code",
      "source": [
        "idx = np.arange(X_train.shape[0])\n",
        "np.random.shuffle(idx)\n",
        "\n",
        "X_train_shuffled = X_train[idx]\n",
        "y_train_shuffled = y_train[idx]\n",
        "\n",
        "# Free some precious RAM\n",
        "del X_train\n",
        "del instances['train']"
      ],
      "metadata": {
        "id": "qt_F9wTg03PK"
      },
      "execution_count": null,
      "outputs": []
    },
    {
      "cell_type": "code",
      "source": [
        "model.fit(\n",
        "    X_train_shuffled, y_train_shuffled,\n",
        "    epochs=10,\n",
        "    validation_data=(X_valid, y_valid),\n",
        "    callbacks=[lr_scheduler]\n",
        ")"
      ],
      "metadata": {
        "id": "TLtkkfjj0DO6",
        "colab": {
          "base_uri": "https://localhost:8080/"
        },
        "outputId": "de87e3c6-bc6d-49e5-a657-647e2aa57cca"
      },
      "execution_count": null,
      "outputs": [
        {
          "output_type": "stream",
          "name": "stdout",
          "text": [
            "Epoch 1/10\n",
            "333/333 [==============================] - 20s 10ms/step - loss: 1.7279 - accuracy: 0.6547 - val_loss: 0.6693 - val_accuracy: 0.8655 - lr: 0.0010\n",
            "Epoch 2/10\n",
            "333/333 [==============================] - 3s 9ms/step - loss: 0.3699 - accuracy: 0.9229 - val_loss: 0.3399 - val_accuracy: 0.9188 - lr: 0.0010\n",
            "Epoch 3/10\n",
            "333/333 [==============================] - 3s 8ms/step - loss: 0.1860 - accuracy: 0.9626 - val_loss: 0.2733 - val_accuracy: 0.9272 - lr: 0.0010\n",
            "Epoch 4/10\n",
            "333/333 [==============================] - 3s 9ms/step - loss: 0.1161 - accuracy: 0.9782 - val_loss: 0.2442 - val_accuracy: 0.9342 - lr: 0.0010\n",
            "Epoch 5/10\n",
            "333/333 [==============================] - 3s 10ms/step - loss: 0.0721 - accuracy: 0.9873 - val_loss: 0.2517 - val_accuracy: 0.9342 - lr: 0.0010\n",
            "Epoch 6/10\n",
            "333/333 [==============================] - 3s 8ms/step - loss: 0.0579 - accuracy: 0.9883 - val_loss: 0.2813 - val_accuracy: 0.9160 - lr: 0.0010\n",
            "Epoch 7/10\n",
            "333/333 [==============================] - 3s 8ms/step - loss: 0.0438 - accuracy: 0.9920 - val_loss: 0.2231 - val_accuracy: 0.9440 - lr: 0.0010\n",
            "Epoch 8/10\n",
            "333/333 [==============================] - 3s 8ms/step - loss: 0.0378 - accuracy: 0.9928 - val_loss: 0.2129 - val_accuracy: 0.9370 - lr: 0.0010\n",
            "Epoch 9/10\n",
            "333/333 [==============================] - 3s 9ms/step - loss: 0.0395 - accuracy: 0.9901 - val_loss: 0.2302 - val_accuracy: 0.9314 - lr: 0.0010\n",
            "Epoch 10/10\n",
            "333/333 [==============================] - 3s 10ms/step - loss: 0.0326 - accuracy: 0.9937 - val_loss: 0.2567 - val_accuracy: 0.9230 - lr: 0.0010\n"
          ]
        },
        {
          "output_type": "execute_result",
          "data": {
            "text/plain": [
              "<keras.callbacks.History at 0x7c3023f69ea0>"
            ]
          },
          "metadata": {},
          "execution_count": 14
        }
      ]
    },
    {
      "cell_type": "code",
      "source": [
        "model.save(\"model_squeeze_excite_resnet\")"
      ],
      "metadata": {
        "id": "EtWcPlEp03zv",
        "colab": {
          "base_uri": "https://localhost:8080/"
        },
        "outputId": "0e90c89a-33b5-4f77-a863-c259b938ba28"
      },
      "execution_count": null,
      "outputs": [
        {
          "output_type": "stream",
          "name": "stderr",
          "text": [
            "WARNING:absl:Found untraced functions such as _jit_compiled_convolution_op, _jit_compiled_convolution_op, _jit_compiled_convolution_op, _jit_compiled_convolution_op while saving (showing 4 of 4). These functions will not be directly callable after loading.\n"
          ]
        }
      ]
    },
    {
      "cell_type": "code",
      "source": [
        "!zip -r model_squeeze_excite_resnet.zip model_squeeze_excite_resnet/"
      ],
      "metadata": {
        "id": "fcM1uoH39Yi-",
        "colab": {
          "base_uri": "https://localhost:8080/"
        },
        "outputId": "1091f0f1-d700-40c1-f7f2-62a4696ea82a"
      },
      "execution_count": null,
      "outputs": [
        {
          "output_type": "stream",
          "name": "stdout",
          "text": [
            "  adding: model_squeeze_excite_resnet/ (stored 0%)\n",
            "  adding: model_squeeze_excite_resnet/fingerprint.pb (stored 0%)\n",
            "  adding: model_squeeze_excite_resnet/variables/ (stored 0%)\n",
            "  adding: model_squeeze_excite_resnet/variables/variables.data-00000-of-00001 (deflated 9%)\n",
            "  adding: model_squeeze_excite_resnet/variables/variables.index (deflated 68%)\n",
            "  adding: model_squeeze_excite_resnet/keras_metadata.pb (deflated 93%)\n",
            "  adding: model_squeeze_excite_resnet/assets/ (stored 0%)\n",
            "  adding: model_squeeze_excite_resnet/saved_model.pb (deflated 90%)\n"
          ]
        }
      ]
    },
    {
      "cell_type": "code",
      "source": [],
      "metadata": {
        "id": "MyLtRMXE8EXa"
      },
      "execution_count": null,
      "outputs": []
    }
  ]
}