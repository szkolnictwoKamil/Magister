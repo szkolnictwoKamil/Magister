{
  "nbformat": 4,
  "nbformat_minor": 0,
  "metadata": {
    "colab": {
      "provenance": []
    },
    "kernelspec": {
      "name": "python3",
      "display_name": "Python 3"
    },
    "language_info": {
      "name": "python"
    },
    "accelerator": "GPU",
    "gpuClass": "standard"
  },
  "cells": [
    {
      "cell_type": "code",
      "execution_count": null,
      "metadata": {
        "id": "2FCdYHDqRc4c",
        "colab": {
          "base_uri": "https://localhost:8080/"
        },
        "outputId": "16618d4f-d957-40e4-f04b-b6670f770e1a"
      },
      "outputs": [
        {
          "output_type": "stream",
          "name": "stdout",
          "text": [
            "Mounted at /content/gdrive\n"
          ]
        }
      ],
      "source": [
        "from google.colab import drive\n",
        "drive.mount('/content/gdrive')"
      ]
    },
    {
      "cell_type": "code",
      "source": [
        "import numpy as np\n",
        "import tensorflow as tf\n",
        "import tensorflow.keras as keras\n",
        "from tensorflow.keras.applications import MobileNetV2\n",
        "from tensorflow.keras.models import Model\n",
        "import os\n",
        "import matplotlib.pyplot as plt\n",
        "import random\n",
        "from sklearn.decomposition import PCA\n",
        "from tensorflow.keras.applications import MobileNetV2\n",
        "from tensorflow.keras.models import Model"
      ],
      "metadata": {
        "id": "ByfX9nGVR1yF"
      },
      "execution_count": null,
      "outputs": []
    },
    {
      "cell_type": "code",
      "source": [
        "def set_all_seeds(seed):\n",
        "    os.environ[\"PL_GLOBAL_SEED\"] = str(seed)\n",
        "    random.seed(seed)\n",
        "    np.random.seed(seed)\n",
        "    tf.random.set_seed(seed)\n",
        "    tf.experimental.numpy.random.seed(seed)\n",
        "    os.environ['TF_CUDNN_DETERMINISTIC'] = '1'\n",
        "    os.environ['TF_DETERMINISTIC_OPS'] = '1'\n",
        "    os.environ[\"PYTHONHASHSEED\"] = str(seed)\n",
        "\n",
        "set_all_seeds(420)"
      ],
      "metadata": {
        "id": "O0mqcxurkFRJ"
      },
      "execution_count": null,
      "outputs": []
    },
    {
      "cell_type": "code",
      "source": [
        "model_mn2 = MobileNetV2(\n",
        "    input_shape=None, alpha=1.0, include_top=True, weights='imagenet',\n",
        "    input_tensor=None, pooling=None, classes=1000\n",
        ")"
      ],
      "metadata": {
        "id": "UOBy80H_R7kF",
        "colab": {
          "base_uri": "https://localhost:8080/"
        },
        "outputId": "6481fda7-26dc-44de-a6c0-ed48f88346e1"
      },
      "execution_count": null,
      "outputs": [
        {
          "output_type": "stream",
          "name": "stdout",
          "text": [
            "Downloading data from https://storage.googleapis.com/tensorflow/keras-applications/mobilenet_v2/mobilenet_v2_weights_tf_dim_ordering_tf_kernels_1.0_224.h5\n",
            "14536120/14536120 [==============================] - 2s 0us/step\n"
          ]
        }
      ]
    },
    {
      "cell_type": "code",
      "source": [
        "model_mn2.summary()"
      ],
      "metadata": {
        "id": "NQyBLIyXSCc_"
      },
      "execution_count": null,
      "outputs": []
    },
    {
      "cell_type": "code",
      "source": [
        "layer_name = 'block_15_add'\n",
        "feature_extractor = Model(inputs=model_mn2.input, outputs=model_mn2.get_layer(layer_name).output)"
      ],
      "metadata": {
        "id": "w8B5gNtkSFh_"
      },
      "execution_count": null,
      "outputs": []
    },
    {
      "cell_type": "code",
      "source": [
        "plants_names = []\n",
        "\n",
        "for plant in os.listdir('gdrive/MyDrive/flower_data/encoded/train'):\n",
        "    plants_names += [plant.split('.npy')[0]]\n",
        "\n",
        "plants_names.sort()\n",
        "plant_name_to_id = {plant: i for i, plant in enumerate(plants_names)}"
      ],
      "metadata": {
        "id": "IuMdmEESSHQY"
      },
      "execution_count": null,
      "outputs": []
    },
    {
      "cell_type": "code",
      "source": [
        "instances = {}\n",
        "labels = {}\n",
        "\n",
        "for set_kind in [\"test\", \"train\", \"val\"]:\n",
        "    X_per_class = []\n",
        "    y_per_class = []\n",
        "\n",
        "    for i, file in enumerate(os.listdir(f\"gdrive/MyDrive/flower_data/encoded/{set_kind}\")):\n",
        "        print(f\"\\r[{i}] {set_kind}/{file}\", end='')\n",
        "        plants_encoded = np.load(f\"gdrive/MyDrive/flower_data/encoded/{set_kind}/{file}\")\n",
        "        plant_name = file.split('.npy')[0]\n",
        "\n",
        "        X_per_class += [plants_encoded.reshape([plants_encoded.shape[0], 49, 160])]\n",
        "        y_per_class += [plant_name_to_id[plant_name] for _ in range(plants_encoded.shape[0])]\n",
        "\n",
        "    instances[set_kind] = np.concatenate(X_per_class)\n",
        "    labels[set_kind] = np.array(y_per_class)"
      ],
      "metadata": {
        "id": "ZCZK3KJrSMFU",
        "colab": {
          "base_uri": "https://localhost:8080/"
        },
        "outputId": "612e2d07-c6cb-4458-a8fc-d06e46ad00a5"
      },
      "execution_count": null,
      "outputs": [
        {
          "output_type": "stream",
          "name": "stdout",
          "text": [
            "[101] val/16.npy"
          ]
        }
      ]
    },
    {
      "cell_type": "code",
      "source": [
        "n_classes = len(plants_names)\n",
        "\n",
        "X_train = instances['train']\n",
        "y_train = np.eye(n_classes)[labels['train']]\n",
        "\n",
        "X_valid = instances['val']\n",
        "y_valid = np.eye(n_classes)[labels['val']]\n",
        "\n",
        "X_test = instances['test']\n",
        "y_test = np.eye(n_classes)[labels['test']]"
      ],
      "metadata": {
        "id": "CtLPl_TPSP9w"
      },
      "execution_count": null,
      "outputs": []
    },
    {
      "cell_type": "code",
      "source": [
        "pca_per_filter = [\n",
        "    PCA(n_components=5).fit(X_train[..., i])\n",
        "    for i in range(X_train.shape[-1])\n",
        "]"
      ],
      "metadata": {
        "id": "SZAEPXdYVND6"
      },
      "execution_count": null,
      "outputs": []
    },
    {
      "cell_type": "code",
      "source": [
        "X_train.shape"
      ],
      "metadata": {
        "id": "oNj-VGReQkUe",
        "colab": {
          "base_uri": "https://localhost:8080/"
        },
        "outputId": "ba8978bc-cdfa-4241-deb3-34dae14990df"
      },
      "execution_count": null,
      "outputs": [
        {
          "output_type": "execute_result",
          "data": {
            "text/plain": [
              "(10635, 49, 160)"
            ]
          },
          "metadata": {},
          "execution_count": 11
        }
      ]
    },
    {
      "cell_type": "code",
      "source": [
        "all_means = np.array([filter.mean_ for filter in pca_per_filter])\n",
        "all_means = all_means.T.reshape([1, 49, 160])\n",
        "\n",
        "all_components = np.array([filter.components_ for filter in pca_per_filter])\n",
        "all_components = np.transpose(all_components, [2, 1, 0])\n",
        "\n",
        "filterwise_dot = np.einsum('ij...,jk...->...ik', X_train - all_means, all_components)\n",
        "filterwise_dot = np.transpose(filterwise_dot, axes=[1, 2, 0])\n",
        "\n",
        "X_train_pca = filterwise_dot"
      ],
      "metadata": {
        "id": "seKeA8NFdvna"
      },
      "execution_count": null,
      "outputs": []
    },
    {
      "cell_type": "code",
      "source": [
        "all_means = np.array([filter.mean_ for filter in pca_per_filter])\n",
        "all_means = all_means.T.reshape([1, 49, 160])\n",
        "\n",
        "all_components = np.array([filter.components_ for filter in pca_per_filter])\n",
        "all_components = np.transpose(all_components, [2, 1, 0])\n",
        "\n",
        "filterwise_dot = np.einsum('ij...,jk...->...ik', X_valid - all_means, all_components)\n",
        "# equivalent to einsum tf.stack([A[..., i] @ B[..., i] for i in tf.range(160)], axis=-1)\n",
        "filterwise_dot = np.transpose(filterwise_dot, axes=[1, 2, 0])\n",
        "\n",
        "X_valid_pca = filterwise_dot"
      ],
      "metadata": {
        "id": "9LtW0eRdUpsL"
      },
      "execution_count": null,
      "outputs": []
    },
    {
      "cell_type": "code",
      "source": [
        "all_means = np.array([filter.mean_ for filter in pca_per_filter])\n",
        "all_means = all_means.T.reshape([1, 49, 160])\n",
        "\n",
        "all_components = np.array([filter.components_ for filter in pca_per_filter])\n",
        "all_components = np.transpose(all_components, [2, 1, 0])\n",
        "\n",
        "filterwise_dot = np.einsum('ij...,jk...->...ik', X_test - all_means, all_components)\n",
        "# equivalent to einsum tf.stack([A[..., i] @ B[..., i] for i in tf.range(160)], axis=-1)\n",
        "filterwise_dot = np.transpose(filterwise_dot, axes=[1, 2, 0])\n",
        "\n",
        "X_test = filterwise_dot"
      ],
      "metadata": {
        "id": "eDEVrdaCU099"
      },
      "execution_count": null,
      "outputs": []
    },
    {
      "cell_type": "code",
      "source": [
        "model = keras.models.Sequential([\n",
        "    keras.layers.Input(shape=[5 * 160]),\n",
        "    keras.layers.BatchNormalization(),\n",
        "    keras.layers.Dense(256, kernel_initializer=\"lecun_normal\", use_bias=False),\n",
        "    keras.layers.ELU(),\n",
        "    keras.layers.Dropout(rate=0.15),\n",
        "    keras.layers.BatchNormalization(),\n",
        "    keras.layers.Dense(480, kernel_initializer=\"lecun_normal\", use_bias=False),\n",
        "    keras.layers.ELU(),\n",
        "    keras.layers.Dropout(rate=0.25),\n",
        "    keras.layers.Dense(102, activation=\"softmax\")\n",
        "])"
      ],
      "metadata": {
        "id": "SGb2OTm7Uvmx"
      },
      "execution_count": null,
      "outputs": []
    },
    {
      "cell_type": "code",
      "source": [
        "model.compile(\n",
        "    loss=\"categorical_crossentropy\",\n",
        "    optimizer=\"nadam\",\n",
        "    metrics=[\"accuracy\"]\n",
        ")"
      ],
      "metadata": {
        "id": "HOLN8wP4WTnd"
      },
      "execution_count": null,
      "outputs": []
    },
    {
      "cell_type": "code",
      "source": [
        "model.summary()"
      ],
      "metadata": {
        "id": "ynJcwlYxMsPB"
      },
      "execution_count": null,
      "outputs": []
    },
    {
      "cell_type": "code",
      "source": [
        "idx = np.arange(X_train_pca.shape[0])\n",
        "np.random.shuffle(idx)\n",
        "\n",
        "X_train_pca_shuffled = X_train_pca[idx]\n",
        "y_train_shuffled = y_train[idx]"
      ],
      "metadata": {
        "id": "cQgjvrLmWxkQ"
      },
      "execution_count": null,
      "outputs": []
    },
    {
      "cell_type": "code",
      "source": [
        "\n",
        "X_train_pca_shuffled = X_train_pca_shuffled.reshape(-1, 5 * 160)\n",
        "X_valid_pca = X_valid_pca.reshape(-1, 5 * 160)"
      ],
      "metadata": {
        "id": "ecTlFB6_Wz9c"
      },
      "execution_count": null,
      "outputs": []
    },
    {
      "cell_type": "code",
      "source": [
        "X_test = X_test.reshape(-1, 5 * 160)"
      ],
      "metadata": {
        "id": "2G3UyAneVTGM"
      },
      "execution_count": null,
      "outputs": []
    },
    {
      "cell_type": "code",
      "source": [
        "lr_scheduler = keras.callbacks.ReduceLROnPlateau(factor=0.5, patience=2)\n",
        "\n",
        "model.fit(\n",
        "    X_train_pca_shuffled, y_train_shuffled,\n",
        "    epochs=10,\n",
        "    validation_data=(X_valid_pca, y_valid),\n",
        "    callbacks=[lr_scheduler]\n",
        ")"
      ],
      "metadata": {
        "id": "PctZDzcPW63F",
        "colab": {
          "base_uri": "https://localhost:8080/"
        },
        "outputId": "da9cbb59-e298-41f5-ca6d-1807037692a7"
      },
      "execution_count": null,
      "outputs": [
        {
          "output_type": "stream",
          "name": "stdout",
          "text": [
            "Epoch 1/10\n",
            "333/333 [==============================] - 9s 5ms/step - loss: 1.4711 - accuracy: 0.6453 - val_loss: 0.5006 - val_accuracy: 0.8599 - lr: 0.0010\n",
            "Epoch 2/10\n",
            "333/333 [==============================] - 2s 5ms/step - loss: 0.2985 - accuracy: 0.9176 - val_loss: 0.3974 - val_accuracy: 0.8838 - lr: 0.0010\n",
            "Epoch 3/10\n",
            "333/333 [==============================] - 2s 5ms/step - loss: 0.1566 - accuracy: 0.9560 - val_loss: 0.3639 - val_accuracy: 0.8908 - lr: 0.0010\n",
            "Epoch 4/10\n",
            "333/333 [==============================] - 2s 5ms/step - loss: 0.1085 - accuracy: 0.9681 - val_loss: 0.3954 - val_accuracy: 0.8978 - lr: 0.0010\n",
            "Epoch 5/10\n",
            "333/333 [==============================] - 2s 5ms/step - loss: 0.1058 - accuracy: 0.9688 - val_loss: 0.4204 - val_accuracy: 0.8950 - lr: 0.0010\n",
            "Epoch 6/10\n",
            "333/333 [==============================] - 2s 6ms/step - loss: 0.0511 - accuracy: 0.9854 - val_loss: 0.3428 - val_accuracy: 0.9076 - lr: 5.0000e-04\n",
            "Epoch 7/10\n",
            "333/333 [==============================] - 2s 6ms/step - loss: 0.0263 - accuracy: 0.9933 - val_loss: 0.3288 - val_accuracy: 0.9132 - lr: 5.0000e-04\n",
            "Epoch 8/10\n",
            "333/333 [==============================] - 2s 5ms/step - loss: 0.0243 - accuracy: 0.9940 - val_loss: 0.3082 - val_accuracy: 0.9216 - lr: 5.0000e-04\n",
            "Epoch 9/10\n",
            "333/333 [==============================] - 2s 5ms/step - loss: 0.0208 - accuracy: 0.9945 - val_loss: 0.3237 - val_accuracy: 0.9216 - lr: 5.0000e-04\n",
            "Epoch 10/10\n",
            "333/333 [==============================] - 2s 5ms/step - loss: 0.0183 - accuracy: 0.9952 - val_loss: 0.3102 - val_accuracy: 0.9118 - lr: 5.0000e-04\n"
          ]
        },
        {
          "output_type": "execute_result",
          "data": {
            "text/plain": [
              "<keras.callbacks.History at 0x7b86f91d44f0>"
            ]
          },
          "metadata": {},
          "execution_count": 20
        }
      ]
    },
    {
      "cell_type": "code",
      "source": [
        "model.save(\"model_pca_based\")\n",
        "!zip -r model_pca_basd.zip model_pca_based/"
      ],
      "metadata": {
        "id": "3MIYCZCsX1oH",
        "colab": {
          "base_uri": "https://localhost:8080/"
        },
        "outputId": "315ae593-4496-414a-a3a7-553e4a5ac892"
      },
      "execution_count": null,
      "outputs": [
        {
          "output_type": "stream",
          "name": "stdout",
          "text": [
            "  adding: model_pca_based/ (stored 0%)\n",
            "  adding: model_pca_based/fingerprint.pb (stored 0%)\n",
            "  adding: model_pca_based/variables/ (stored 0%)\n",
            "  adding: model_pca_based/variables/variables.data-00000-of-00001 (deflated 9%)\n",
            "  adding: model_pca_based/variables/variables.index (deflated 62%)\n",
            "  adding: model_pca_based/keras_metadata.pb (deflated 90%)\n",
            "  adding: model_pca_based/assets/ (stored 0%)\n",
            "  adding: model_pca_based/saved_model.pb (deflated 88%)\n"
          ]
        }
      ]
    },
    {
      "cell_type": "code",
      "source": [],
      "metadata": {
        "id": "NVAYgrUy6n32"
      },
      "execution_count": null,
      "outputs": []
    }
  ]
}