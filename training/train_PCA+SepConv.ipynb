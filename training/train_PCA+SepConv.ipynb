{
  "nbformat": 4,
  "nbformat_minor": 0,
  "metadata": {
    "colab": {
      "provenance": []
    },
    "kernelspec": {
      "name": "python3",
      "display_name": "Python 3"
    },
    "language_info": {
      "name": "python"
    },
    "accelerator": "GPU",
    "gpuClass": "standard"
  },
  "cells": [
    {
      "cell_type": "code",
      "execution_count": null,
      "metadata": {
        "id": "0IZApsU1EmXs",
        "colab": {
          "base_uri": "https://localhost:8080/"
        },
        "outputId": "a93b6422-22a5-47f4-c7bf-f554b4ee91aa"
      },
      "outputs": [
        {
          "output_type": "stream",
          "name": "stdout",
          "text": [
            "Mounted at /content/gdrive\n"
          ]
        }
      ],
      "source": [
        "from google.colab import drive\n",
        "drive.mount('/content/gdrive')"
      ]
    },
    {
      "cell_type": "code",
      "source": [
        "import numpy as np\n",
        "import tensorflow as tf\n",
        "import tensorflow.keras as keras\n",
        "from tensorflow.keras.applications import MobileNetV2\n",
        "from tensorflow.keras.models import Model\n",
        "import os\n",
        "import random\n",
        "import matplotlib.pyplot as plt\n",
        "from sklearn.decomposition import PCA"
      ],
      "metadata": {
        "id": "5P_nfCb4FN6V"
      },
      "execution_count": null,
      "outputs": []
    },
    {
      "cell_type": "code",
      "source": [
        "def set_all_seeds(seed):\n",
        "    os.environ[\"PL_GLOBAL_SEED\"] = str(seed)\n",
        "    random.seed(seed)\n",
        "    np.random.seed(seed)\n",
        "    tf.random.set_seed(seed)\n",
        "    tf.experimental.numpy.random.seed(seed)\n",
        "    os.environ['TF_CUDNN_DETERMINISTIC'] = '1'\n",
        "    os.environ['TF_DETERMINISTIC_OPS'] = '1'\n",
        "    os.environ[\"PYTHONHASHSEED\"] = str(seed)\n",
        "\n",
        "set_all_seeds(420)"
      ],
      "metadata": {
        "id": "heHuEzoskIK7"
      },
      "execution_count": null,
      "outputs": []
    },
    {
      "cell_type": "code",
      "source": [
        "model_mn2 = MobileNetV2(\n",
        "    input_shape=None, alpha=1.0, include_top=True, weights='imagenet',\n",
        "    input_tensor=None, pooling=None, classes=1000\n",
        ")"
      ],
      "metadata": {
        "id": "J53cj7AfFP9P",
        "colab": {
          "base_uri": "https://localhost:8080/"
        },
        "outputId": "47b0cd91-1ac1-40c6-fe7b-a9e9e89e6b18"
      },
      "execution_count": null,
      "outputs": [
        {
          "output_type": "stream",
          "name": "stdout",
          "text": [
            "Downloading data from https://storage.googleapis.com/tensorflow/keras-applications/mobilenet_v2/mobilenet_v2_weights_tf_dim_ordering_tf_kernels_1.0_224.h5\n",
            "14536120/14536120 [==============================] - 0s 0us/step\n"
          ]
        }
      ]
    },
    {
      "cell_type": "code",
      "source": [
        "model_mn2.summary()"
      ],
      "metadata": {
        "id": "BJwFv-GkFRjx"
      },
      "execution_count": null,
      "outputs": []
    },
    {
      "cell_type": "code",
      "source": [
        "layer_name = 'block_15_add'\n",
        "feature_extractor = Model(inputs=model_mn2.input, outputs=model_mn2.get_layer(layer_name).output)"
      ],
      "metadata": {
        "id": "Z8vuV8n7FS8Z"
      },
      "execution_count": null,
      "outputs": []
    },
    {
      "cell_type": "code",
      "source": [
        "plants_names = []\n",
        "\n",
        "for plant in os.listdir('gdrive/MyDrive/flower_data/encoded/train'):\n",
        "    plants_names += [plant.split('.npy')[0]]\n",
        "\n",
        "plants_names.sort()\n",
        "plant_name_to_id = {plant: i for i, plant in enumerate(plants_names)}"
      ],
      "metadata": {
        "id": "g2dDI4qhFZF_"
      },
      "execution_count": null,
      "outputs": []
    },
    {
      "cell_type": "code",
      "source": [
        "instances = {}\n",
        "labels = {}\n",
        "\n",
        "for set_kind in [\"test\", \"train\", \"val\"]:\n",
        "    X_per_class = []\n",
        "    y_per_class = []\n",
        "\n",
        "    for i, file in enumerate(os.listdir(f\"gdrive/MyDrive/flower_data/encoded/{set_kind}\")):\n",
        "        print(f\"\\r[{i}] {set_kind}/{file}\", end='')\n",
        "        plants_encoded = np.load(f\"gdrive/MyDrive/flower_data/encoded/{set_kind}/{file}\")\n",
        "        plant_name = file.split('.npy')[0]\n",
        "\n",
        "        X_per_class += [plants_encoded.reshape([plants_encoded.shape[0], 49, 160])]\n",
        "        y_per_class += [plant_name_to_id[plant_name] for _ in range(plants_encoded.shape[0])]\n",
        "\n",
        "    instances[set_kind] = np.concatenate(X_per_class)\n",
        "    labels[set_kind] = np.array(y_per_class)"
      ],
      "metadata": {
        "id": "eAyYujJiFa37",
        "colab": {
          "base_uri": "https://localhost:8080/"
        },
        "outputId": "9a960790-983f-4003-d4e5-01c59b747898"
      },
      "execution_count": null,
      "outputs": [
        {
          "output_type": "stream",
          "name": "stdout",
          "text": [
            "[101] val/16.npy"
          ]
        }
      ]
    },
    {
      "cell_type": "code",
      "source": [
        "n_classes = len(plants_names)\n",
        "\n",
        "X_train = instances['train']\n",
        "y_train = np.eye(n_classes)[labels['train']]\n",
        "\n",
        "X_valid = instances['val']\n",
        "y_valid = np.eye(n_classes)[labels['val']]\n",
        "\n",
        "X_test = instances['test']\n",
        "y_test = np.eye(n_classes)[labels['test']]"
      ],
      "metadata": {
        "id": "DqcFD-PaFcvz"
      },
      "execution_count": null,
      "outputs": []
    },
    {
      "cell_type": "code",
      "source": [
        "pca_per_filter = [\n",
        "    PCA(n_components=5).fit(X_train[..., i])\n",
        "    for i in range(X_train.shape[-1])\n",
        "]"
      ],
      "metadata": {
        "id": "UZHX_xj7FhF9"
      },
      "execution_count": null,
      "outputs": []
    },
    {
      "cell_type": "code",
      "source": [
        "all_means = np.array([filter.mean_ for filter in pca_per_filter])\n",
        "all_means = all_means.T.reshape([1, 49, 160])\n",
        "\n",
        "all_components = np.array([filter.components_ for filter in pca_per_filter])\n",
        "all_components = np.transpose(all_components, [2, 1, 0])\n",
        "\n",
        "filterwise_dot = np.einsum('ij...,jk...->...ik', X_train - all_means, all_components)\n",
        "filterwise_dot = np.transpose(filterwise_dot, axes=[1, 2, 0])\n",
        "\n",
        "X_train_pca = filterwise_dot"
      ],
      "metadata": {
        "id": "2DAosM1tGVQr"
      },
      "execution_count": null,
      "outputs": []
    },
    {
      "cell_type": "code",
      "source": [
        "all_means = np.array([filter.mean_ for filter in pca_per_filter])\n",
        "all_means = all_means.T.reshape([1, 49, 160])\n",
        "\n",
        "all_components = np.array([filter.components_ for filter in pca_per_filter])\n",
        "all_components = np.transpose(all_components, [2, 1, 0])\n",
        "\n",
        "filterwise_dot = np.einsum('ij...,jk...->...ik', X_valid - all_means, all_components)\n",
        "# equivalent to einsum tf.stack([A[..., i] @ B[..., i] for i in tf.range(160)], axis=-1)\n",
        "filterwise_dot = np.transpose(filterwise_dot, axes=[1, 2, 0])\n",
        "\n",
        "X_valid_pca = filterwise_dot"
      ],
      "metadata": {
        "id": "eux62quxGslP"
      },
      "execution_count": null,
      "outputs": []
    },
    {
      "cell_type": "code",
      "source": [
        "all_means = np.array([filter.mean_ for filter in pca_per_filter])\n",
        "all_means = all_means.T.reshape([1, 49, 160])\n",
        "\n",
        "all_components = np.array([filter.components_ for filter in pca_per_filter])\n",
        "all_components = np.transpose(all_components, [2, 1, 0])\n",
        "\n",
        "filterwise_dot = np.einsum('ij...,jk...->...ik', X_test - all_means, all_components)\n",
        "# equivalent to einsum tf.stack([A[..., i] @ B[..., i] for i in tf.range(160)], axis=-1)\n",
        "filterwise_dot = np.transpose(filterwise_dot, axes=[1, 2, 0])\n",
        "\n",
        "X_test = filterwise_dot"
      ],
      "metadata": {
        "id": "KXJtgJJWGxza"
      },
      "execution_count": null,
      "outputs": []
    },
    {
      "cell_type": "code",
      "source": [
        "model = keras.models.Sequential([\n",
        "    keras.layers.Input(shape=[5, 160]),\n",
        "    keras.layers.BatchNormalization(),\n",
        "    keras.layers.SeparableConv1D(filters=320, depth_multiplier=3, kernel_size=5),\n",
        "    keras.layers.ELU(),\n",
        "    keras.layers.Flatten(),\n",
        "    keras.layers.Dropout(rate=0.15),\n",
        "    keras.layers.BatchNormalization(),\n",
        "    keras.layers.Dense(480, kernel_initializer=\"lecun_normal\", use_bias=False),\n",
        "    keras.layers.ELU(),\n",
        "    keras.layers.Dropout(rate=0.25),\n",
        "    keras.layers.Dense(102, activation=\"softmax\")\n",
        "])"
      ],
      "metadata": {
        "id": "aAWcedAgG0cj"
      },
      "execution_count": null,
      "outputs": []
    },
    {
      "cell_type": "code",
      "source": [
        "model.compile(\n",
        "    loss=\"categorical_crossentropy\",\n",
        "    optimizer=\"nadam\",\n",
        "    metrics=[\"accuracy\"]\n",
        ")"
      ],
      "metadata": {
        "id": "jSwpOCKcMjun"
      },
      "execution_count": null,
      "outputs": []
    },
    {
      "cell_type": "code",
      "source": [
        "model.summary()"
      ],
      "metadata": {
        "id": "lghYWz_MOnkr"
      },
      "execution_count": null,
      "outputs": []
    },
    {
      "cell_type": "code",
      "source": [
        "idx = np.arange(X_train_pca.shape[0])\n",
        "np.random.shuffle(idx)\n",
        "\n",
        "X_train_pca_shuffled = X_train_pca[idx]\n",
        "y_train_shuffled = y_train[idx]"
      ],
      "metadata": {
        "id": "Iy0gkbUzOoHA"
      },
      "execution_count": null,
      "outputs": []
    },
    {
      "cell_type": "code",
      "source": [
        "lr_scheduler = keras.callbacks.ReduceLROnPlateau(factor=0.5, patience=2)\n",
        "\n",
        "model.fit(\n",
        "    X_train_pca_shuffled, y_train_shuffled,\n",
        "    epochs=10,\n",
        "    validation_data=(X_valid_pca, y_valid),\n",
        "    callbacks=[lr_scheduler]\n",
        ")"
      ],
      "metadata": {
        "id": "F1Ac690uOvka",
        "colab": {
          "base_uri": "https://localhost:8080/"
        },
        "outputId": "67b89672-3e33-4cca-b4e9-5610f9c3ae07"
      },
      "execution_count": null,
      "outputs": [
        {
          "output_type": "stream",
          "name": "stdout",
          "text": [
            "Epoch 1/10\n",
            "333/333 [==============================] - 16s 8ms/step - loss: 1.2111 - accuracy: 0.7075 - val_loss: 0.5020 - val_accuracy: 0.8782 - lr: 0.0010\n",
            "Epoch 2/10\n",
            "333/333 [==============================] - 3s 8ms/step - loss: 0.2879 - accuracy: 0.9182 - val_loss: 0.3304 - val_accuracy: 0.8964 - lr: 0.0010\n",
            "Epoch 3/10\n",
            "333/333 [==============================] - 2s 6ms/step - loss: 0.1811 - accuracy: 0.9479 - val_loss: 0.2922 - val_accuracy: 0.9216 - lr: 0.0010\n",
            "Epoch 4/10\n",
            "333/333 [==============================] - 2s 6ms/step - loss: 0.1237 - accuracy: 0.9600 - val_loss: 0.3809 - val_accuracy: 0.9020 - lr: 0.0010\n",
            "Epoch 5/10\n",
            "333/333 [==============================] - 2s 6ms/step - loss: 0.1279 - accuracy: 0.9608 - val_loss: 0.3819 - val_accuracy: 0.8964 - lr: 0.0010\n",
            "Epoch 6/10\n",
            "333/333 [==============================] - 2s 6ms/step - loss: 0.0648 - accuracy: 0.9806 - val_loss: 0.2817 - val_accuracy: 0.9286 - lr: 5.0000e-04\n",
            "Epoch 7/10\n",
            "333/333 [==============================] - 2s 7ms/step - loss: 0.0382 - accuracy: 0.9887 - val_loss: 0.2479 - val_accuracy: 0.9314 - lr: 5.0000e-04\n",
            "Epoch 8/10\n",
            "333/333 [==============================] - 3s 8ms/step - loss: 0.0305 - accuracy: 0.9912 - val_loss: 0.2460 - val_accuracy: 0.9300 - lr: 5.0000e-04\n",
            "Epoch 9/10\n",
            "333/333 [==============================] - 2s 6ms/step - loss: 0.0280 - accuracy: 0.9924 - val_loss: 0.2584 - val_accuracy: 0.9328 - lr: 5.0000e-04\n",
            "Epoch 10/10\n",
            "333/333 [==============================] - 2s 6ms/step - loss: 0.0318 - accuracy: 0.9899 - val_loss: 0.2694 - val_accuracy: 0.9244 - lr: 5.0000e-04\n"
          ]
        },
        {
          "output_type": "execute_result",
          "data": {
            "text/plain": [
              "<keras.callbacks.History at 0x7eb2dc211e70>"
            ]
          },
          "metadata": {},
          "execution_count": 16
        }
      ]
    },
    {
      "cell_type": "code",
      "source": [
        "model.save(\"model_pca_sepconv\")\n",
        "!zip -r model_pca_sepconv.zip model_pca_sepconv/"
      ],
      "metadata": {
        "id": "RkgDGSNaLO2a",
        "colab": {
          "base_uri": "https://localhost:8080/"
        },
        "outputId": "4867f6ae-ba4b-4f8e-a427-58ebb83a7c0f"
      },
      "execution_count": null,
      "outputs": [
        {
          "output_type": "stream",
          "name": "stderr",
          "text": [
            "WARNING:absl:Found untraced functions such as _jit_compiled_convolution_op while saving (showing 1 of 1). These functions will not be directly callable after loading.\n"
          ]
        },
        {
          "output_type": "stream",
          "name": "stdout",
          "text": [
            "  adding: model_pca_sepconv/ (stored 0%)\n",
            "  adding: model_pca_sepconv/fingerprint.pb (stored 0%)\n",
            "  adding: model_pca_sepconv/variables/ (stored 0%)\n",
            "  adding: model_pca_sepconv/variables/variables.data-00000-of-00001 (deflated 9%)\n",
            "  adding: model_pca_sepconv/variables/variables.index (deflated 63%)\n",
            "  adding: model_pca_sepconv/keras_metadata.pb (deflated 90%)\n",
            "  adding: model_pca_sepconv/assets/ (stored 0%)\n",
            "  adding: model_pca_sepconv/saved_model.pb (deflated 88%)\n"
          ]
        }
      ]
    },
    {
      "cell_type": "code",
      "source": [],
      "metadata": {
        "id": "O73fQ6YL5yoN"
      },
      "execution_count": null,
      "outputs": []
    }
  ]
}