{
  "nbformat": 4,
  "nbformat_minor": 0,
  "metadata": {
    "colab": {
      "provenance": []
    },
    "kernelspec": {
      "name": "python3",
      "display_name": "Python 3"
    },
    "language_info": {
      "name": "python"
    },
    "accelerator": "GPU"
  },
  "cells": [
    {
      "cell_type": "code",
      "metadata": {
        "id": "3vhm2daquoOE",
        "colab": {
          "base_uri": "https://localhost:8080/"
        },
        "outputId": "3ff0f72c-4092-4ac7-b6c9-4a950cd47a95"
      },
      "source": [
        "from google.colab import drive\n",
        "drive.mount('/content/gdrive')"
      ],
      "execution_count": null,
      "outputs": [
        {
          "output_type": "stream",
          "name": "stdout",
          "text": [
            "Mounted at /content/gdrive\n"
          ]
        }
      ]
    },
    {
      "cell_type": "code",
      "metadata": {
        "id": "L1cEpDIxZUY8"
      },
      "source": [
        "import numpy as np\n",
        "import tensorflow as tf\n",
        "import tensorflow.keras as keras\n",
        "from tensorflow.keras.applications import MobileNetV2\n",
        "from tensorflow.keras.models import Model\n",
        "import os\n",
        "import random\n",
        "import matplotlib.pyplot as plt\n",
        "import gc\n",
        "from sklearn.discriminant_analysis import LinearDiscriminantAnalysis as LDA"
      ],
      "execution_count": null,
      "outputs": []
    },
    {
      "cell_type": "code",
      "source": [
        "def set_all_seeds(seed):\n",
        "    os.environ[\"PL_GLOBAL_SEED\"] = str(seed)\n",
        "    random.seed(seed)\n",
        "    np.random.seed(seed)\n",
        "    tf.random.set_seed(seed)\n",
        "    tf.experimental.numpy.random.seed(seed)\n",
        "    os.environ['TF_CUDNN_DETERMINISTIC'] = '1'\n",
        "    os.environ['TF_DETERMINISTIC_OPS'] = '1'\n",
        "    os.environ[\"PYTHONHASHSEED\"] = str(seed)\n",
        "\n",
        "set_all_seeds(420)"
      ],
      "metadata": {
        "id": "i4lWoZpPkHMD"
      },
      "execution_count": null,
      "outputs": []
    },
    {
      "cell_type": "code",
      "metadata": {
        "id": "SYSRQzC3d9Rb",
        "colab": {
          "base_uri": "https://localhost:8080/"
        },
        "outputId": "f04b446a-d0b4-473e-f1cc-88668add83a1"
      },
      "source": [
        "model_mn2 = MobileNetV2(\n",
        "    input_shape=None, alpha=1.0, include_top=True, weights='imagenet',\n",
        "    input_tensor=None, pooling=None, classes=1000\n",
        ")"
      ],
      "execution_count": null,
      "outputs": [
        {
          "output_type": "stream",
          "name": "stdout",
          "text": [
            "Downloading data from https://storage.googleapis.com/tensorflow/keras-applications/mobilenet_v2/mobilenet_v2_weights_tf_dim_ordering_tf_kernels_1.0_224.h5\n",
            "14536120/14536120 [==============================] - 0s 0us/step\n"
          ]
        }
      ]
    },
    {
      "cell_type": "code",
      "metadata": {
        "id": "9O1I0iX6d9OB"
      },
      "source": [
        "model_mn2.summary()"
      ],
      "execution_count": null,
      "outputs": []
    },
    {
      "cell_type": "code",
      "metadata": {
        "id": "PsL9-28pd9LW"
      },
      "source": [
        "layer_name = 'block_15_add'\n",
        "feature_extractor = Model(inputs=model_mn2.input, outputs=model_mn2.get_layer(layer_name).output)"
      ],
      "execution_count": null,
      "outputs": []
    },
    {
      "cell_type": "code",
      "metadata": {
        "id": "j3V6PKNNSQVh"
      },
      "source": [
        "plants_names = []\n",
        "\n",
        "for plant in os.listdir('gdrive/MyDrive/flower_data/encoded/train'):\n",
        "    plants_names += [plant.split('.npy')[0]]\n",
        "\n",
        "plants_names.sort()\n",
        "plant_name_to_id = {plant: i for i, plant in enumerate(plants_names)}"
      ],
      "execution_count": null,
      "outputs": []
    },
    {
      "cell_type": "code",
      "metadata": {
        "id": "hTViAm_uSQY7",
        "colab": {
          "base_uri": "https://localhost:8080/"
        },
        "outputId": "12ce9bd1-77a1-4bad-c9e3-2eb296f99550"
      },
      "source": [
        "instances = {}\n",
        "labels = {}\n",
        "\n",
        "for set_kind in [\"test\", \"train\", \"val\"]:\n",
        "    X_per_class = []\n",
        "    y_per_class = []\n",
        "\n",
        "    for i, file in enumerate(os.listdir(f\"gdrive/MyDrive/flower_data/encoded/{set_kind}\")):\n",
        "        print(f\"\\r[{i}] {set_kind}/{file}\", end='')\n",
        "        plants_encoded = np.load(f\"gdrive/MyDrive/flower_data/encoded/{set_kind}/{file}\")\n",
        "        plant_name = file.split('.npy')[0]\n",
        "\n",
        "        X_per_class += [plants_encoded.reshape([plants_encoded.shape[0], 49, 160])]\n",
        "        y_per_class += [plant_name_to_id[plant_name] for _ in range(plants_encoded.shape[0])]\n",
        "\n",
        "    instances[set_kind] = np.concatenate(X_per_class)\n",
        "    labels[set_kind] = np.array(y_per_class)"
      ],
      "execution_count": null,
      "outputs": [
        {
          "output_type": "stream",
          "name": "stdout",
          "text": [
            "[101] val/16.npy"
          ]
        }
      ]
    },
    {
      "cell_type": "code",
      "metadata": {
        "id": "2tC7x7lJSQTQ"
      },
      "source": [
        "n_classes = len(plants_names)\n",
        "\n",
        "X_train = instances['train']\n",
        "y_train = np.eye(n_classes)[labels['train']]\n",
        "\n",
        "X_valid = instances['val']\n",
        "y_valid = np.eye(n_classes)[labels['val']]\n",
        "\n",
        "X_test = instances['test']\n",
        "y_test = np.eye(n_classes)[labels['test']]"
      ],
      "execution_count": null,
      "outputs": []
    },
    {
      "cell_type": "code",
      "source": [
        "lda_per_filter = [\n",
        "    LDA(n_components=5).fit(X_train[..., i], np.argmax(y_train, axis=1))\n",
        "    for i in range(X_train.shape[-1])\n",
        "]"
      ],
      "metadata": {
        "id": "bcg-qbz7obXo"
      },
      "execution_count": null,
      "outputs": []
    },
    {
      "cell_type": "code",
      "source": [
        "all_means = np.array([filter.xbar_ for filter in lda_per_filter])\n",
        "all_means = all_means.T.reshape([1, 49, 160])\n",
        "\n",
        "all_components = np.array([filter.scalings_[:, :5] for filter in lda_per_filter])\n",
        "all_components = np.transpose(all_components, [1, 2, 0])"
      ],
      "metadata": {
        "id": "ouzh7ZKsobUL"
      },
      "execution_count": null,
      "outputs": []
    },
    {
      "cell_type": "code",
      "source": [
        "filterwise_dot = np.einsum('ij...,jk...->...ik', X_train - all_means, all_components)\n",
        "filterwise_dot = np.transpose(filterwise_dot, axes=[1, 2, 0])\n",
        "\n",
        "X_train_lda = filterwise_dot\n",
        "\n",
        "filterwise_dot = np.einsum('ij...,jk...->...ik', X_valid - all_means, all_components)\n",
        "filterwise_dot = np.transpose(filterwise_dot, axes=[1, 2, 0])\n",
        "\n",
        "X_valid_lda = filterwise_dot\n",
        "\n",
        "filterwise_dot = np.einsum('ij...,jk...->...ik', X_test - all_means, all_components)\n",
        "filterwise_dot = np.transpose(filterwise_dot, axes=[1, 2, 0])\n",
        "\n",
        "X_test_lda = filterwise_dot"
      ],
      "metadata": {
        "id": "nBwUdwU3rMR_"
      },
      "execution_count": null,
      "outputs": []
    },
    {
      "cell_type": "code",
      "source": [
        "idx = np.arange(X_train_lda.shape[0])\n",
        "np.random.shuffle(idx)\n",
        "\n",
        "X_train_lda_shuffled = X_train_lda[idx]\n",
        "y_train_shuffled = y_train[idx]\n",
        "\n",
        "X_train_lda_shuffled_flat = X_train_lda_shuffled.reshape(-1, 5 * 160)\n",
        "X_valid_lda_flat = X_valid_lda.reshape(-1, 5 * 160)\n",
        "X_test_aug_lda_flat = X_test_lda.reshape(-1, 5 * 160)"
      ],
      "metadata": {
        "id": "TAUPkEIxrjIj"
      },
      "execution_count": null,
      "outputs": []
    },
    {
      "cell_type": "code",
      "metadata": {
        "id": "ZCtIbZnlnrTo",
        "colab": {
          "base_uri": "https://localhost:8080/"
        },
        "outputId": "d39d8eb5-cd06-4bbf-946a-bf7f4a966b82"
      },
      "source": [
        "model = keras.models.Sequential([\n",
        "    keras.layers.Input(shape=[5 * 160]),\n",
        "    keras.layers.BatchNormalization(),\n",
        "    keras.layers.Dense(256, kernel_initializer=\"lecun_normal\", use_bias=False),\n",
        "    keras.layers.ELU(),\n",
        "    keras.layers.Dropout(rate=0.15),\n",
        "    keras.layers.BatchNormalization(),\n",
        "    keras.layers.Dense(480, kernel_initializer=\"lecun_normal\", use_bias=False),\n",
        "    keras.layers.ELU(),\n",
        "    keras.layers.Dropout(rate=0.25),\n",
        "    keras.layers.Dense(102, activation=\"softmax\")\n",
        "])\n",
        "\n",
        "model.summary()\n",
        "\n",
        "model.compile(\n",
        "    loss=\"categorical_crossentropy\",\n",
        "    optimizer=\"nadam\",\n",
        "    metrics=[\"accuracy\"]\n",
        ")\n",
        "\n",
        "lr_scheduler = keras.callbacks.ReduceLROnPlateau(factor=0.5, patience=2)"
      ],
      "execution_count": null,
      "outputs": [
        {
          "output_type": "stream",
          "name": "stdout",
          "text": [
            "Model: \"sequential_1\"\n",
            "_________________________________________________________________\n",
            " Layer (type)                Output Shape              Param #   \n",
            "=================================================================\n",
            " batch_normalization_2 (Batc  (None, 800)              3200      \n",
            " hNormalization)                                                 \n",
            "                                                                 \n",
            " dense_3 (Dense)             (None, 256)               204800    \n",
            "                                                                 \n",
            " elu_2 (ELU)                 (None, 256)               0         \n",
            "                                                                 \n",
            " dropout_2 (Dropout)         (None, 256)               0         \n",
            "                                                                 \n",
            " batch_normalization_3 (Batc  (None, 256)              1024      \n",
            " hNormalization)                                                 \n",
            "                                                                 \n",
            " dense_4 (Dense)             (None, 480)               122880    \n",
            "                                                                 \n",
            " elu_3 (ELU)                 (None, 480)               0         \n",
            "                                                                 \n",
            " dropout_3 (Dropout)         (None, 480)               0         \n",
            "                                                                 \n",
            " dense_5 (Dense)             (None, 102)               49062     \n",
            "                                                                 \n",
            "=================================================================\n",
            "Total params: 380,966\n",
            "Trainable params: 378,854\n",
            "Non-trainable params: 2,112\n",
            "_________________________________________________________________\n"
          ]
        }
      ]
    },
    {
      "cell_type": "code",
      "source": [
        "model.fit(\n",
        "    X_train_lda_shuffled_flat, y_train_shuffled,\n",
        "    epochs=10,\n",
        "    validation_data=(X_valid_lda_flat, y_valid),\n",
        "    callbacks=[lr_scheduler]\n",
        ")\n",
        "gc.collect()"
      ],
      "metadata": {
        "id": "P8fIIZqVlfBM",
        "colab": {
          "base_uri": "https://localhost:8080/"
        },
        "outputId": "57b2bede-6e99-492e-ee01-462162ad4867"
      },
      "execution_count": null,
      "outputs": [
        {
          "output_type": "stream",
          "name": "stdout",
          "text": [
            "Epoch 1/10\n",
            "333/333 [==============================] - 12s 11ms/step - loss: 1.3084 - accuracy: 0.6819 - val_loss: 0.4278 - val_accuracy: 0.8866 - lr: 0.0010\n",
            "Epoch 2/10\n",
            "333/333 [==============================] - 2s 6ms/step - loss: 0.2348 - accuracy: 0.9346 - val_loss: 0.3728 - val_accuracy: 0.9020 - lr: 0.0010\n",
            "Epoch 3/10\n",
            "333/333 [==============================] - 2s 6ms/step - loss: 0.1280 - accuracy: 0.9640 - val_loss: 0.3427 - val_accuracy: 0.9020 - lr: 0.0010\n",
            "Epoch 4/10\n",
            "333/333 [==============================] - 2s 5ms/step - loss: 0.0941 - accuracy: 0.9715 - val_loss: 0.4246 - val_accuracy: 0.8810 - lr: 0.0010\n",
            "Epoch 5/10\n",
            "333/333 [==============================] - 2s 5ms/step - loss: 0.0868 - accuracy: 0.9739 - val_loss: 0.3959 - val_accuracy: 0.8964 - lr: 0.0010\n",
            "Epoch 6/10\n",
            "333/333 [==============================] - 3s 8ms/step - loss: 0.0382 - accuracy: 0.9897 - val_loss: 0.3265 - val_accuracy: 0.9146 - lr: 5.0000e-04\n",
            "Epoch 7/10\n",
            "333/333 [==============================] - 2s 6ms/step - loss: 0.0214 - accuracy: 0.9946 - val_loss: 0.3032 - val_accuracy: 0.9174 - lr: 5.0000e-04\n",
            "Epoch 8/10\n",
            "333/333 [==============================] - 2s 5ms/step - loss: 0.0155 - accuracy: 0.9965 - val_loss: 0.2926 - val_accuracy: 0.9146 - lr: 5.0000e-04\n",
            "Epoch 9/10\n",
            "333/333 [==============================] - 2s 5ms/step - loss: 0.0172 - accuracy: 0.9950 - val_loss: 0.3455 - val_accuracy: 0.9076 - lr: 5.0000e-04\n",
            "Epoch 10/10\n",
            "333/333 [==============================] - 2s 5ms/step - loss: 0.0159 - accuracy: 0.9964 - val_loss: 0.3388 - val_accuracy: 0.9048 - lr: 5.0000e-04\n"
          ]
        },
        {
          "output_type": "execute_result",
          "data": {
            "text/plain": [
              "2769"
            ]
          },
          "metadata": {},
          "execution_count": 17
        }
      ]
    },
    {
      "cell_type": "code",
      "source": [
        "model.save(\"model_lda_based\")\n",
        "!zip -r model_lda_basd.zip model_lda_based/"
      ],
      "metadata": {
        "id": "N2jT_xr9ueoV",
        "colab": {
          "base_uri": "https://localhost:8080/"
        },
        "outputId": "10a18159-684d-4f30-c7da-f8127ad51fab"
      },
      "execution_count": null,
      "outputs": [
        {
          "output_type": "stream",
          "name": "stdout",
          "text": [
            "  adding: model_lda_based/ (stored 0%)\n",
            "  adding: model_lda_based/fingerprint.pb (stored 0%)\n",
            "  adding: model_lda_based/variables/ (stored 0%)\n",
            "  adding: model_lda_based/variables/variables.data-00000-of-00001 (deflated 9%)\n",
            "  adding: model_lda_based/variables/variables.index (deflated 62%)\n",
            "  adding: model_lda_based/keras_metadata.pb (deflated 90%)\n",
            "  adding: model_lda_based/assets/ (stored 0%)\n",
            "  adding: model_lda_based/saved_model.pb (deflated 89%)\n"
          ]
        }
      ]
    },
    {
      "cell_type": "code",
      "source": [
        "def top_k_accuracy_score(y_true, y_pred, k=1):\n",
        "    ranks = np.sum(y_pred >= y_pred[y_true == 1].reshape(-1, 1), axis=1)\n",
        "    return np.sum(ranks <= k) / ranks.shape[0]\n",
        "\n",
        "# model = keras.models.load_model('model_mobilenetv2_regularized_oxford102')\n",
        "print(\"Validation set accuracy\")\n",
        "preds_valid_1 = model(tf.reshape(X_valid, [-1, 7, 7, 160])).numpy()\n",
        "\n",
        "print(\"TOP 1\", top_k_accuracy_score(y_valid, preds_valid_1, k=1))\n",
        "print(\"TOP 5\", top_k_accuracy_score(y_valid, preds_valid_1, k=5))\n",
        "\n",
        "print(\"Test set\")\n",
        "preds_test_aug_1 = model(tf.reshape(X_test, [-1, 7, 7, 160])).numpy()\n",
        "\n",
        "print(\"TOP 1\", top_k_accuracy_score(y_test, preds_test_aug_1, k=1))\n",
        "print(\"TOP 5\", top_k_accuracy_score(y_test, preds_test_aug_1, k=5))"
      ],
      "metadata": {
        "colab": {
          "base_uri": "https://localhost:8080/",
          "height": 424
        },
        "id": "SwLBheYh3W2Z",
        "outputId": "1dca04a4-6055-4d45-e3ee-d723b75b83d8"
      },
      "execution_count": null,
      "outputs": [
        {
          "output_type": "stream",
          "name": "stdout",
          "text": [
            "Validation set accuracy\n"
          ]
        },
        {
          "output_type": "error",
          "ename": "ValueError",
          "evalue": "ignored",
          "traceback": [
            "\u001b[0;31m---------------------------------------------------------------------------\u001b[0m",
            "\u001b[0;31mValueError\u001b[0m                                Traceback (most recent call last)",
            "\u001b[0;32m<ipython-input-19-0accccdc7b01>\u001b[0m in \u001b[0;36m<cell line: 7>\u001b[0;34m()\u001b[0m\n\u001b[1;32m      5\u001b[0m \u001b[0;31m# model = keras.models.load_model('model_mobilenetv2_regularized_oxford102')\u001b[0m\u001b[0;34m\u001b[0m\u001b[0;34m\u001b[0m\u001b[0m\n\u001b[1;32m      6\u001b[0m \u001b[0mprint\u001b[0m\u001b[0;34m(\u001b[0m\u001b[0;34m\"Validation set accuracy\"\u001b[0m\u001b[0;34m)\u001b[0m\u001b[0;34m\u001b[0m\u001b[0;34m\u001b[0m\u001b[0m\n\u001b[0;32m----> 7\u001b[0;31m \u001b[0mpreds_valid_1\u001b[0m \u001b[0;34m=\u001b[0m \u001b[0mmodel\u001b[0m\u001b[0;34m(\u001b[0m\u001b[0mtf\u001b[0m\u001b[0;34m.\u001b[0m\u001b[0mreshape\u001b[0m\u001b[0;34m(\u001b[0m\u001b[0mX_valid\u001b[0m\u001b[0;34m,\u001b[0m \u001b[0;34m[\u001b[0m\u001b[0;34m-\u001b[0m\u001b[0;36m1\u001b[0m\u001b[0;34m,\u001b[0m \u001b[0;36m7\u001b[0m\u001b[0;34m,\u001b[0m \u001b[0;36m7\u001b[0m\u001b[0;34m,\u001b[0m \u001b[0;36m160\u001b[0m\u001b[0;34m]\u001b[0m\u001b[0;34m)\u001b[0m\u001b[0;34m)\u001b[0m\u001b[0;34m.\u001b[0m\u001b[0mnumpy\u001b[0m\u001b[0;34m(\u001b[0m\u001b[0;34m)\u001b[0m\u001b[0;34m\u001b[0m\u001b[0;34m\u001b[0m\u001b[0m\n\u001b[0m\u001b[1;32m      8\u001b[0m \u001b[0;34m\u001b[0m\u001b[0m\n\u001b[1;32m      9\u001b[0m \u001b[0mprint\u001b[0m\u001b[0;34m(\u001b[0m\u001b[0;34m\"TOP 1\"\u001b[0m\u001b[0;34m,\u001b[0m \u001b[0mtop_k_accuracy_score\u001b[0m\u001b[0;34m(\u001b[0m\u001b[0my_valid\u001b[0m\u001b[0;34m,\u001b[0m \u001b[0mpreds_valid_1\u001b[0m\u001b[0;34m,\u001b[0m \u001b[0mk\u001b[0m\u001b[0;34m=\u001b[0m\u001b[0;36m1\u001b[0m\u001b[0;34m)\u001b[0m\u001b[0;34m)\u001b[0m\u001b[0;34m\u001b[0m\u001b[0;34m\u001b[0m\u001b[0m\n",
            "\u001b[0;32m/usr/local/lib/python3.10/dist-packages/keras/utils/traceback_utils.py\u001b[0m in \u001b[0;36merror_handler\u001b[0;34m(*args, **kwargs)\u001b[0m\n\u001b[1;32m     68\u001b[0m             \u001b[0;31m# To get the full stack trace, call:\u001b[0m\u001b[0;34m\u001b[0m\u001b[0;34m\u001b[0m\u001b[0m\n\u001b[1;32m     69\u001b[0m             \u001b[0;31m# `tf.debugging.disable_traceback_filtering()`\u001b[0m\u001b[0;34m\u001b[0m\u001b[0;34m\u001b[0m\u001b[0m\n\u001b[0;32m---> 70\u001b[0;31m             \u001b[0;32mraise\u001b[0m \u001b[0me\u001b[0m\u001b[0;34m.\u001b[0m\u001b[0mwith_traceback\u001b[0m\u001b[0;34m(\u001b[0m\u001b[0mfiltered_tb\u001b[0m\u001b[0;34m)\u001b[0m \u001b[0;32mfrom\u001b[0m \u001b[0;32mNone\u001b[0m\u001b[0;34m\u001b[0m\u001b[0;34m\u001b[0m\u001b[0m\n\u001b[0m\u001b[1;32m     71\u001b[0m         \u001b[0;32mfinally\u001b[0m\u001b[0;34m:\u001b[0m\u001b[0;34m\u001b[0m\u001b[0;34m\u001b[0m\u001b[0m\n\u001b[1;32m     72\u001b[0m             \u001b[0;32mdel\u001b[0m \u001b[0mfiltered_tb\u001b[0m\u001b[0;34m\u001b[0m\u001b[0;34m\u001b[0m\u001b[0m\n",
            "\u001b[0;32m/usr/local/lib/python3.10/dist-packages/keras/engine/input_spec.py\u001b[0m in \u001b[0;36massert_input_compatibility\u001b[0;34m(input_spec, inputs, layer_name)\u001b[0m\n\u001b[1;32m    296\u001b[0m                 \u001b[0;32mif\u001b[0m \u001b[0mspec_dim\u001b[0m \u001b[0;32mis\u001b[0m \u001b[0;32mnot\u001b[0m \u001b[0;32mNone\u001b[0m \u001b[0;32mand\u001b[0m \u001b[0mdim\u001b[0m \u001b[0;32mis\u001b[0m \u001b[0;32mnot\u001b[0m \u001b[0;32mNone\u001b[0m\u001b[0;34m:\u001b[0m\u001b[0;34m\u001b[0m\u001b[0;34m\u001b[0m\u001b[0m\n\u001b[1;32m    297\u001b[0m                     \u001b[0;32mif\u001b[0m \u001b[0mspec_dim\u001b[0m \u001b[0;34m!=\u001b[0m \u001b[0mdim\u001b[0m\u001b[0;34m:\u001b[0m\u001b[0;34m\u001b[0m\u001b[0;34m\u001b[0m\u001b[0m\n\u001b[0;32m--> 298\u001b[0;31m                         raise ValueError(\n\u001b[0m\u001b[1;32m    299\u001b[0m                             \u001b[0;34mf'Input {input_index} of layer \"{layer_name}\" is '\u001b[0m\u001b[0;34m\u001b[0m\u001b[0;34m\u001b[0m\u001b[0m\n\u001b[1;32m    300\u001b[0m                             \u001b[0;34m\"incompatible with the layer: \"\u001b[0m\u001b[0;34m\u001b[0m\u001b[0;34m\u001b[0m\u001b[0m\n",
            "\u001b[0;31mValueError\u001b[0m: Input 0 of layer \"sequential_1\" is incompatible with the layer: expected shape=(None, 800), found shape=(714, 7, 7, 160)"
          ]
        }
      ]
    },
    {
      "cell_type": "code",
      "source": [
        "model = keras.models.Sequential([\n",
        "    keras.layers.Input(shape=[5, 160]),\n",
        "    keras.layers.BatchNormalization(),\n",
        "    keras.layers.SeparableConv1D(filters=320, kernel_size=5, depth_multiplier=3),\n",
        "    keras.layers.ELU(),\n",
        "    keras.layers.Flatten(),\n",
        "    keras.layers.Dropout(rate=0.15),\n",
        "    keras.layers.BatchNormalization(),\n",
        "    keras.layers.Dense(480, kernel_initializer=\"lecun_normal\", use_bias=False),\n",
        "    keras.layers.ELU(),\n",
        "    keras.layers.Dropout(rate=0.25),\n",
        "    keras.layers.Dense(102, activation=\"softmax\")\n",
        "])\n",
        "\n",
        "model.summary()\n",
        "\n",
        "model.compile(\n",
        "    loss=\"categorical_crossentropy\",\n",
        "    optimizer=\"nadam\",\n",
        "    metrics=[\"accuracy\"]\n",
        ")\n",
        "\n",
        "lr_scheduler = keras.callbacks.ReduceLROnPlateau(factor=0.5, patience=2)"
      ],
      "metadata": {
        "id": "Az4OIpRTmJDa",
        "colab": {
          "base_uri": "https://localhost:8080/"
        },
        "outputId": "62101240-70fd-4e81-d7fe-a4f3a628be8f"
      },
      "execution_count": null,
      "outputs": [
        {
          "output_type": "stream",
          "name": "stdout",
          "text": [
            "Model: \"sequential_2\"\n",
            "_________________________________________________________________\n",
            " Layer (type)                Output Shape              Param #   \n",
            "=================================================================\n",
            " batch_normalization_4 (Batc  (None, 5, 160)           640       \n",
            " hNormalization)                                                 \n",
            "                                                                 \n",
            " separable_conv1d (Separable  (None, 1, 320)           156320    \n",
            " Conv1D)                                                         \n",
            "                                                                 \n",
            " elu_4 (ELU)                 (None, 1, 320)            0         \n",
            "                                                                 \n",
            " flatten (Flatten)           (None, 320)               0         \n",
            "                                                                 \n",
            " dropout_4 (Dropout)         (None, 320)               0         \n",
            "                                                                 \n",
            " batch_normalization_5 (Batc  (None, 320)              1280      \n",
            " hNormalization)                                                 \n",
            "                                                                 \n",
            " dense_6 (Dense)             (None, 480)               153600    \n",
            "                                                                 \n",
            " elu_5 (ELU)                 (None, 480)               0         \n",
            "                                                                 \n",
            " dropout_5 (Dropout)         (None, 480)               0         \n",
            "                                                                 \n",
            " dense_7 (Dense)             (None, 102)               49062     \n",
            "                                                                 \n",
            "=================================================================\n",
            "Total params: 360,902\n",
            "Trainable params: 359,942\n",
            "Non-trainable params: 960\n",
            "_________________________________________________________________\n"
          ]
        }
      ]
    },
    {
      "cell_type": "code",
      "source": [
        "model.fit(\n",
        "    X_train_lda_shuffled, y_train_shuffled,\n",
        "    epochs=10,\n",
        "    validation_data=(X_valid_lda, y_valid),\n",
        "    callbacks=[lr_scheduler]\n",
        ")\n",
        "gc.collect()"
      ],
      "metadata": {
        "id": "gAfjC4WMn1iT",
        "colab": {
          "base_uri": "https://localhost:8080/"
        },
        "outputId": "902d5a91-16f3-415d-eb39-80e4c3457acf"
      },
      "execution_count": null,
      "outputs": [
        {
          "output_type": "stream",
          "name": "stdout",
          "text": [
            "Epoch 1/10\n",
            "333/333 [==============================] - 12s 7ms/step - loss: 1.2732 - accuracy: 0.6920 - val_loss: 0.5629 - val_accuracy: 0.8697 - lr: 0.0010\n",
            "Epoch 2/10\n",
            "333/333 [==============================] - 2s 7ms/step - loss: 0.2765 - accuracy: 0.9198 - val_loss: 0.3853 - val_accuracy: 0.8936 - lr: 0.0010\n",
            "Epoch 3/10\n",
            "333/333 [==============================] - 3s 9ms/step - loss: 0.1704 - accuracy: 0.9495 - val_loss: 0.3645 - val_accuracy: 0.9006 - lr: 0.0010\n",
            "Epoch 4/10\n",
            "333/333 [==============================] - 2s 7ms/step - loss: 0.1324 - accuracy: 0.9581 - val_loss: 0.4199 - val_accuracy: 0.8936 - lr: 0.0010\n",
            "Epoch 5/10\n",
            "333/333 [==============================] - 2s 7ms/step - loss: 0.1113 - accuracy: 0.9644 - val_loss: 0.4550 - val_accuracy: 0.8838 - lr: 0.0010\n",
            "Epoch 6/10\n",
            "333/333 [==============================] - 2s 7ms/step - loss: 0.0566 - accuracy: 0.9819 - val_loss: 0.3235 - val_accuracy: 0.9160 - lr: 5.0000e-04\n",
            "Epoch 7/10\n",
            "333/333 [==============================] - 2s 7ms/step - loss: 0.0295 - accuracy: 0.9921 - val_loss: 0.3183 - val_accuracy: 0.9230 - lr: 5.0000e-04\n",
            "Epoch 8/10\n",
            "333/333 [==============================] - 3s 8ms/step - loss: 0.0241 - accuracy: 0.9933 - val_loss: 0.3295 - val_accuracy: 0.9174 - lr: 5.0000e-04\n",
            "Epoch 9/10\n",
            "333/333 [==============================] - 3s 8ms/step - loss: 0.0211 - accuracy: 0.9940 - val_loss: 0.3700 - val_accuracy: 0.9160 - lr: 5.0000e-04\n",
            "Epoch 10/10\n",
            "333/333 [==============================] - 2s 7ms/step - loss: 0.0141 - accuracy: 0.9962 - val_loss: 0.3125 - val_accuracy: 0.9286 - lr: 2.5000e-04\n"
          ]
        },
        {
          "output_type": "execute_result",
          "data": {
            "text/plain": [
              "13722"
            ]
          },
          "metadata": {},
          "execution_count": 21
        }
      ]
    },
    {
      "cell_type": "code",
      "source": [
        "model.save(\"model_lda_sepconv\")\n",
        "!zip -r model_lda_sepconv.zip model_lda_sepconv/"
      ],
      "metadata": {
        "id": "VnAuv0HArrbv",
        "colab": {
          "base_uri": "https://localhost:8080/"
        },
        "outputId": "1dec1b51-19b1-413e-d524-4849a5e03169"
      },
      "execution_count": null,
      "outputs": [
        {
          "output_type": "stream",
          "name": "stderr",
          "text": [
            "WARNING:absl:Found untraced functions such as _jit_compiled_convolution_op while saving (showing 1 of 1). These functions will not be directly callable after loading.\n"
          ]
        },
        {
          "output_type": "stream",
          "name": "stdout",
          "text": [
            "  adding: model_lda_sepconv/ (stored 0%)\n",
            "  adding: model_lda_sepconv/fingerprint.pb (stored 0%)\n",
            "  adding: model_lda_sepconv/variables/ (stored 0%)\n",
            "  adding: model_lda_sepconv/variables/variables.data-00000-of-00001 (deflated 9%)\n",
            "  adding: model_lda_sepconv/variables/variables.index (deflated 63%)\n",
            "  adding: model_lda_sepconv/keras_metadata.pb (deflated 90%)\n",
            "  adding: model_lda_sepconv/assets/ (stored 0%)\n",
            "  adding: model_lda_sepconv/saved_model.pb (deflated 88%)\n"
          ]
        }
      ]
    },
    {
      "cell_type": "code",
      "source": [],
      "metadata": {
        "id": "E5L5x_XR4xZc"
      },
      "execution_count": null,
      "outputs": []
    }
  ]
}